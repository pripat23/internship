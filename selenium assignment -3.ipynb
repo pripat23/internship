{
 "cells": [
  {
   "cell_type": "markdown",
   "id": "06672326",
   "metadata": {},
   "source": [
    "# Assignment -3"
   ]
  },
  {
   "cell_type": "markdown",
   "id": "e64c3755",
   "metadata": {},
   "source": [
    "Q1: Write a python program to scrape data for “Data Analyst” Job position in “Bangalore” location. You have to scrape the job-title, job-location, company_name, experience_required. You have to scrape first 10 jobs data.\n",
    "This task will be done in following steps:\n",
    "1.First get the webpage https://www.naukri.com/\n",
    "2.Enter “Data Analyst” in “Skill, Designations, Companies” field and enter “Bangalore” in “enter the\n",
    "location” field.\n",
    "3.Then click the search button.\n",
    "4.Then scrape the data for the first 10 jobs results you get.\n",
    "5.Finally create a dataframe of the scraped data.\n",
    "Note: All of the above steps have to be done in code. No step is to be done manually."
   ]
  },
  {
   "cell_type": "code",
   "execution_count": 78,
   "id": "8ffdce1c",
   "metadata": {},
   "outputs": [],
   "source": [
    "import selenium\n",
    "import pandas as pd\n",
    "from selenium import webdriver\n",
    "import warnings\n",
    "warnings.filterwarnings('ignore')\n",
    "from selenium.common.exceptions import StaleElementReferenceException,NoSuchElementException\n",
    "from selenium.webdriver.common.by import By\n",
    "import time"
   ]
  },
  {
   "cell_type": "code",
   "execution_count": 79,
   "id": "c26d2fe0",
   "metadata": {},
   "outputs": [],
   "source": [
    "from selenium.webdriver.common.by import By\n",
    "from selenium.webdriver.support.ui import WebDriverWait\n",
    "from selenium.webdriver.support import expected_conditions as EC"
   ]
  },
  {
   "cell_type": "code",
   "execution_count": 80,
   "id": "69ba63e8",
   "metadata": {},
   "outputs": [],
   "source": [
    "driver=webdriver.Chrome(r\"C:\\Users\\pranay\\Desktop\\chromedriver_win32 (1)\\chromedriver.exe\")"
   ]
  },
  {
   "cell_type": "code",
   "execution_count": 81,
   "id": "21e972ee",
   "metadata": {},
   "outputs": [],
   "source": [
    "driver.get(\"https://www.naukri.com/\")"
   ]
  },
  {
   "cell_type": "code",
   "execution_count": 82,
   "id": "2072b23a",
   "metadata": {},
   "outputs": [
    {
     "data": {
      "text/plain": [
       "<selenium.webdriver.remote.webelement.WebElement (session=\"6eb04a8f4eca49b66d25713303ae11b7\", element=\"34576cae-638d-4668-94ba-4dc155cefda0\")>"
      ]
     },
     "execution_count": 82,
     "metadata": {},
     "output_type": "execute_result"
    }
   ],
   "source": [
    "designation=driver.find_element(By.CLASS_NAME,'suggestor-input')\n",
    "designation"
   ]
  },
  {
   "cell_type": "code",
   "execution_count": 83,
   "id": "d0ddcf4b",
   "metadata": {},
   "outputs": [],
   "source": [
    "designation.send_keys('Data Analyst')"
   ]
  },
  {
   "cell_type": "code",
   "execution_count": 84,
   "id": "3882a680",
   "metadata": {},
   "outputs": [],
   "source": [
    "location=driver.find_element(By.XPATH,\"/html/body/div[1]/div[2]/div[3]/div/div/div[5]/div/div/div/input\")\n",
    "location.send_keys('Bangalore')"
   ]
  },
  {
   "cell_type": "code",
   "execution_count": 85,
   "id": "8c48500e",
   "metadata": {},
   "outputs": [],
   "source": [
    "search_job=driver.find_element(By.CLASS_NAME,'qsbSubmit')\n",
    "search_job.click()"
   ]
  },
  {
   "cell_type": "code",
   "execution_count": 86,
   "id": "eab79af8",
   "metadata": {},
   "outputs": [],
   "source": [
    "job_title=[]\n",
    "job_location=[]\n",
    "company_name=[]\n",
    "experience_required=[]"
   ]
  },
  {
   "cell_type": "code",
   "execution_count": 87,
   "id": "66b3d372",
   "metadata": {},
   "outputs": [],
   "source": [
    "title_tags=driver.find_elements(By.XPATH,\"//a[@class='title fw500 ellipsis']\")\n",
    "for i in title_tags[0:10]:\n",
    "    title=i.text\n",
    "    job_title.append(title)\n",
    "location_tags=driver.find_elements(By.XPATH,\"//li[@class='fleft grey-text br2 placeHolderLi location']\")\n",
    "for i in location_tags[0:10]:\n",
    "    location=i.text\n",
    "    job_location.append(location)\n",
    "company_tags=driver.find_elements(By.XPATH,\"//a[@class='subTitle ellipsis fleft']\")\n",
    "for i in company_tags[0:10]:\n",
    "    company=i.text\n",
    "    company_name.append(company)\n",
    "experience_tags=driver.find_elements(By.XPATH,\"//li[@class='fleft grey-text br2 placeHolderLi experience']\")\n",
    "for i in experience_tags[0:10]:\n",
    "    exp=i.text\n",
    "    experience_required.append(exp)"
   ]
  },
  {
   "cell_type": "code",
   "execution_count": 88,
   "id": "738b28d8",
   "metadata": {},
   "outputs": [
    {
     "name": "stdout",
     "output_type": "stream",
     "text": [
      "10 10 10 10\n"
     ]
    }
   ],
   "source": [
    "print(len(job_title),len(job_location),len(company_name),len(experience_required))"
   ]
  },
  {
   "cell_type": "code",
   "execution_count": 89,
   "id": "56246ee7",
   "metadata": {},
   "outputs": [
    {
     "data": {
      "text/html": [
       "<div>\n",
       "<style scoped>\n",
       "    .dataframe tbody tr th:only-of-type {\n",
       "        vertical-align: middle;\n",
       "    }\n",
       "\n",
       "    .dataframe tbody tr th {\n",
       "        vertical-align: top;\n",
       "    }\n",
       "\n",
       "    .dataframe thead th {\n",
       "        text-align: right;\n",
       "    }\n",
       "</style>\n",
       "<table border=\"1\" class=\"dataframe\">\n",
       "  <thead>\n",
       "    <tr style=\"text-align: right;\">\n",
       "      <th></th>\n",
       "      <th>job_title</th>\n",
       "      <th>job_location</th>\n",
       "      <th>company_name</th>\n",
       "      <th>experience_required</th>\n",
       "    </tr>\n",
       "  </thead>\n",
       "  <tbody>\n",
       "    <tr>\n",
       "      <th>0</th>\n",
       "      <td>Data Analyst - Python/Artificial Intelligence</td>\n",
       "      <td>Bangalore/Bengaluru, Mumbai, Hyderabad/Secunde...</td>\n",
       "      <td>iMindYourBusiness</td>\n",
       "      <td>0-2 Yrs</td>\n",
       "    </tr>\n",
       "    <tr>\n",
       "      <th>1</th>\n",
       "      <td>Senior Data Analyst</td>\n",
       "      <td>Bangalore/Bengaluru(Old Madras Road)</td>\n",
       "      <td>KrazyBee</td>\n",
       "      <td>3-6 Yrs</td>\n",
       "    </tr>\n",
       "    <tr>\n",
       "      <th>2</th>\n",
       "      <td>Sr. Data Analyst</td>\n",
       "      <td>Bangalore/Bengaluru, Pune</td>\n",
       "      <td>Global Indian School Education Services</td>\n",
       "      <td>6-11 Yrs</td>\n",
       "    </tr>\n",
       "    <tr>\n",
       "      <th>3</th>\n",
       "      <td>Master Data Management Business Analyst</td>\n",
       "      <td>Bangalore/Bengaluru</td>\n",
       "      <td>Accenture</td>\n",
       "      <td>6-8 Yrs</td>\n",
       "    </tr>\n",
       "    <tr>\n",
       "      <th>4</th>\n",
       "      <td>Senior BI &amp; Data Analyst</td>\n",
       "      <td>Bangalore/Bengaluru, Pune, Mumbai (All Areas)</td>\n",
       "      <td>Samaira HR Solutions</td>\n",
       "      <td>2-4 Yrs</td>\n",
       "    </tr>\n",
       "    <tr>\n",
       "      <th>5</th>\n",
       "      <td>Senior Data Analyst</td>\n",
       "      <td>Bangalore/Bengaluru</td>\n",
       "      <td>Optum</td>\n",
       "      <td>5-7 Yrs</td>\n",
       "    </tr>\n",
       "    <tr>\n",
       "      <th>6</th>\n",
       "      <td>Leap COE Intern(Data Analyst)</td>\n",
       "      <td>Bangalore/Bengaluru</td>\n",
       "      <td>Info Origin Inc.</td>\n",
       "      <td>0-1 Yrs</td>\n",
       "    </tr>\n",
       "    <tr>\n",
       "      <th>7</th>\n",
       "      <td>Forecasting Analyst/ Data Scientist (US Client)</td>\n",
       "      <td>Bangalore/Bengaluru, Gurgaon/Gurugram\\n(WFH du...</td>\n",
       "      <td>Concentrix</td>\n",
       "      <td>3-8 Yrs</td>\n",
       "    </tr>\n",
       "    <tr>\n",
       "      <th>8</th>\n",
       "      <td>Job opportunity Switzerland based MNC / JR. Da...</td>\n",
       "      <td>Bangalore/Bengaluru</td>\n",
       "      <td>Allegis Services India Pvt. Ltd.</td>\n",
       "      <td>0-2 Yrs</td>\n",
       "    </tr>\n",
       "    <tr>\n",
       "      <th>9</th>\n",
       "      <td>Job opportunity Switzerland based MNC / JR. Da...</td>\n",
       "      <td>Bangalore/Bengaluru</td>\n",
       "      <td>Allegis Services India Pvt. Ltd.</td>\n",
       "      <td>0-2 Yrs</td>\n",
       "    </tr>\n",
       "  </tbody>\n",
       "</table>\n",
       "</div>"
      ],
      "text/plain": [
       "                                           job_title  \\\n",
       "0      Data Analyst - Python/Artificial Intelligence   \n",
       "1                                Senior Data Analyst   \n",
       "2                                   Sr. Data Analyst   \n",
       "3            Master Data Management Business Analyst   \n",
       "4                           Senior BI & Data Analyst   \n",
       "5                                Senior Data Analyst   \n",
       "6                      Leap COE Intern(Data Analyst)   \n",
       "7    Forecasting Analyst/ Data Scientist (US Client)   \n",
       "8  Job opportunity Switzerland based MNC / JR. Da...   \n",
       "9  Job opportunity Switzerland based MNC / JR. Da...   \n",
       "\n",
       "                                        job_location  \\\n",
       "0  Bangalore/Bengaluru, Mumbai, Hyderabad/Secunde...   \n",
       "1               Bangalore/Bengaluru(Old Madras Road)   \n",
       "2                          Bangalore/Bengaluru, Pune   \n",
       "3                                Bangalore/Bengaluru   \n",
       "4      Bangalore/Bengaluru, Pune, Mumbai (All Areas)   \n",
       "5                                Bangalore/Bengaluru   \n",
       "6                                Bangalore/Bengaluru   \n",
       "7  Bangalore/Bengaluru, Gurgaon/Gurugram\\n(WFH du...   \n",
       "8                                Bangalore/Bengaluru   \n",
       "9                                Bangalore/Bengaluru   \n",
       "\n",
       "                              company_name experience_required  \n",
       "0                        iMindYourBusiness             0-2 Yrs  \n",
       "1                                 KrazyBee             3-6 Yrs  \n",
       "2  Global Indian School Education Services            6-11 Yrs  \n",
       "3                                Accenture             6-8 Yrs  \n",
       "4                     Samaira HR Solutions             2-4 Yrs  \n",
       "5                                    Optum             5-7 Yrs  \n",
       "6                         Info Origin Inc.             0-1 Yrs  \n",
       "7                               Concentrix             3-8 Yrs  \n",
       "8         Allegis Services India Pvt. Ltd.             0-2 Yrs  \n",
       "9         Allegis Services India Pvt. Ltd.             0-2 Yrs  "
      ]
     },
     "execution_count": 89,
     "metadata": {},
     "output_type": "execute_result"
    }
   ],
   "source": [
    "df=pd.DataFrame({'job_title':job_title, 'job_location':job_location,'company_name':company_name,'experience_required':experience_required})\n",
    "df"
   ]
  },
  {
   "cell_type": "code",
   "execution_count": null,
   "id": "e776b4d3",
   "metadata": {},
   "outputs": [],
   "source": []
  },
  {
   "cell_type": "markdown",
   "id": "87d34664",
   "metadata": {},
   "source": [
    "Q2: Write a python program to scrape data for “Data Scientist” Job position in “Bangalore” location. You\n",
    "have to scrape the job-title, job-location, company_name. You have to scrape first 10 jobs data. This task will be done in following steps:\n",
    "1.First get the webpage https://www.naukri.com/\n",
    "2.Enter “Data Scientist” in “Skill, Designations, Companies” field and enter “Bangalore” in “enter the\n",
    "location” field.\n",
    "3.Then click the search button.\n",
    "4.Then scrape the data for the first 10 jobs results you get.\n",
    "5.Finally create a dataframe of the scraped data.\n",
    "Note: All of the above steps have to be done in code. No step is to be done manually.\n"
   ]
  },
  {
   "cell_type": "code",
   "execution_count": 200,
   "id": "aa2527c7",
   "metadata": {},
   "outputs": [],
   "source": [
    "driver=webdriver.Chrome(r\"C:\\Users\\pranay\\Desktop\\chromedriver_win32 (1)\\chromedriver.exe\")"
   ]
  },
  {
   "cell_type": "code",
   "execution_count": 205,
   "id": "962bdf30",
   "metadata": {},
   "outputs": [],
   "source": [
    "driver.get(\"https://www.naukri.com/\")"
   ]
  },
  {
   "cell_type": "code",
   "execution_count": 206,
   "id": "8ac4f4fa",
   "metadata": {},
   "outputs": [
    {
     "data": {
      "text/plain": [
       "<selenium.webdriver.remote.webelement.WebElement (session=\"48bb2044db3771fc468c5cf57805ad07\", element=\"48cd20bd-c24a-4bd8-a31e-c8cbde0f0651\")>"
      ]
     },
     "execution_count": 206,
     "metadata": {},
     "output_type": "execute_result"
    }
   ],
   "source": [
    "designation=driver.find_element(By.CLASS_NAME,'suggestor-input')\n",
    "designation"
   ]
  },
  {
   "cell_type": "code",
   "execution_count": 207,
   "id": "29332772",
   "metadata": {},
   "outputs": [],
   "source": [
    "designation.send_keys('Data Scientist')"
   ]
  },
  {
   "cell_type": "code",
   "execution_count": 208,
   "id": "8a8fb6cb",
   "metadata": {},
   "outputs": [],
   "source": [
    "location=driver.find_element(By.XPATH,\"/html/body/div[1]/div[2]/div[3]/div/div/div[5]/div/div/div/input\")\n",
    "location.send_keys('Bangalore')"
   ]
  },
  {
   "cell_type": "code",
   "execution_count": 205,
   "id": "0272e2bf",
   "metadata": {},
   "outputs": [],
   "source": [
    "search_job=driver.find_element(By.CLASS_NAME,'qsbSubmit')\n",
    "search_job.click()"
   ]
  },
  {
   "cell_type": "code",
   "execution_count": 215,
   "id": "02c333ff",
   "metadata": {},
   "outputs": [],
   "source": [
    "job_title=[]\n",
    "job_location=[]\n",
    "company_name=[]\n"
   ]
  },
  {
   "cell_type": "code",
   "execution_count": 216,
   "id": "afe0d016",
   "metadata": {},
   "outputs": [],
   "source": [
    "title_tags=driver.find_elements(By.XPATH,\"//a[@class='title fw500 ellipsis']\")\n",
    "for i in title_tags[0:10]:\n",
    "    title=i.text\n",
    "    job_title.append(title)\n",
    "location_tags=driver.find_elements(By.XPATH,\"//li[@class='fleft grey-text br2 placeHolderLi location']\")\n",
    "for i in location_tags[0:10]:\n",
    "    location=i.text\n",
    "    job_location.append(location)\n",
    "company_tags=driver.find_elements(By.XPATH,\"//a[@class='subTitle ellipsis fleft']\")\n",
    "for i in company_tags[0:10]:\n",
    "    company=i.text\n",
    "    company_name.append(company)\n"
   ]
  },
  {
   "cell_type": "code",
   "execution_count": 217,
   "id": "39e294e7",
   "metadata": {},
   "outputs": [
    {
     "name": "stdout",
     "output_type": "stream",
     "text": [
      "10 10 10\n"
     ]
    }
   ],
   "source": [
    "print(len(job_title),len(job_location),len(company_name))"
   ]
  },
  {
   "cell_type": "code",
   "execution_count": 218,
   "id": "db517e6a",
   "metadata": {},
   "outputs": [
    {
     "data": {
      "text/html": [
       "<div>\n",
       "<style scoped>\n",
       "    .dataframe tbody tr th:only-of-type {\n",
       "        vertical-align: middle;\n",
       "    }\n",
       "\n",
       "    .dataframe tbody tr th {\n",
       "        vertical-align: top;\n",
       "    }\n",
       "\n",
       "    .dataframe thead th {\n",
       "        text-align: right;\n",
       "    }\n",
       "</style>\n",
       "<table border=\"1\" class=\"dataframe\">\n",
       "  <thead>\n",
       "    <tr style=\"text-align: right;\">\n",
       "      <th></th>\n",
       "      <th>job_title</th>\n",
       "      <th>job_location</th>\n",
       "      <th>company_name</th>\n",
       "    </tr>\n",
       "  </thead>\n",
       "  <tbody>\n",
       "    <tr>\n",
       "      <th>0</th>\n",
       "      <td>Tcs Hiring For Data Scientist</td>\n",
       "      <td>Bangalore/Bengaluru, Chennai, Mumbai (All Areas)</td>\n",
       "      <td>TATA CONSULTANCY SERVICES (TCS)</td>\n",
       "    </tr>\n",
       "    <tr>\n",
       "      <th>1</th>\n",
       "      <td>Senior Manager - EmTech - Machine Learning - P&amp;T</td>\n",
       "      <td>Bangalore/Bengaluru, Mumbai, Hyderabad/Secunde...</td>\n",
       "      <td>PwC</td>\n",
       "    </tr>\n",
       "    <tr>\n",
       "      <th>2</th>\n",
       "      <td>Assistant Manager - Data Science</td>\n",
       "      <td>Bangalore/Bengaluru, Mumbai, Pune</td>\n",
       "      <td>CitiusTech</td>\n",
       "    </tr>\n",
       "    <tr>\n",
       "      <th>3</th>\n",
       "      <td>Analystics &amp; Modeling Specialist</td>\n",
       "      <td>Bangalore/Bengaluru, Kolkata, Mumbai, Hyderaba...</td>\n",
       "      <td>Accenture</td>\n",
       "    </tr>\n",
       "    <tr>\n",
       "      <th>4</th>\n",
       "      <td>Data scientist _Tata Consultancy Services(Tcs)</td>\n",
       "      <td>Bangalore/Bengaluru, Kochi/Cochin, Indore, New...</td>\n",
       "      <td>TATA CONSULTANCY SERVICES (TCS)</td>\n",
       "    </tr>\n",
       "    <tr>\n",
       "      <th>5</th>\n",
       "      <td>Job||Job Opening For AI Technologist - Data Sc...</td>\n",
       "      <td>Bangalore/Bengaluru, New Delhi, Hyderabad/Secu...</td>\n",
       "      <td>Wipro</td>\n",
       "    </tr>\n",
       "    <tr>\n",
       "      <th>6</th>\n",
       "      <td>Hiring For DATA Scientist @ NTT DATA Business ...</td>\n",
       "      <td>Bangalore/Bengaluru, Noida, Hyderabad/Secunder...</td>\n",
       "      <td>NTT DATA Business Solutions Private Limited</td>\n",
       "    </tr>\n",
       "    <tr>\n",
       "      <th>7</th>\n",
       "      <td>Urgent Job Opening For AI Practitioner - Data ...</td>\n",
       "      <td>Bangalore/Bengaluru, Kochi/Cochin, New Delhi, ...</td>\n",
       "      <td>Wipro</td>\n",
       "    </tr>\n",
       "    <tr>\n",
       "      <th>8</th>\n",
       "      <td>Data Scientist</td>\n",
       "      <td>Bangalore/Bengaluru</td>\n",
       "      <td>Concentrix</td>\n",
       "    </tr>\n",
       "    <tr>\n",
       "      <th>9</th>\n",
       "      <td>Forecasting Analyst/ Data Scientist (US Client)</td>\n",
       "      <td>Bangalore/Bengaluru, Gurgaon/Gurugram\\n(WFH du...</td>\n",
       "      <td>Concentrix</td>\n",
       "    </tr>\n",
       "  </tbody>\n",
       "</table>\n",
       "</div>"
      ],
      "text/plain": [
       "                                           job_title  \\\n",
       "0                      Tcs Hiring For Data Scientist   \n",
       "1   Senior Manager - EmTech - Machine Learning - P&T   \n",
       "2                   Assistant Manager - Data Science   \n",
       "3                   Analystics & Modeling Specialist   \n",
       "4     Data scientist _Tata Consultancy Services(Tcs)   \n",
       "5  Job||Job Opening For AI Technologist - Data Sc...   \n",
       "6  Hiring For DATA Scientist @ NTT DATA Business ...   \n",
       "7  Urgent Job Opening For AI Practitioner - Data ...   \n",
       "8                                     Data Scientist   \n",
       "9    Forecasting Analyst/ Data Scientist (US Client)   \n",
       "\n",
       "                                        job_location  \\\n",
       "0   Bangalore/Bengaluru, Chennai, Mumbai (All Areas)   \n",
       "1  Bangalore/Bengaluru, Mumbai, Hyderabad/Secunde...   \n",
       "2                  Bangalore/Bengaluru, Mumbai, Pune   \n",
       "3  Bangalore/Bengaluru, Kolkata, Mumbai, Hyderaba...   \n",
       "4  Bangalore/Bengaluru, Kochi/Cochin, Indore, New...   \n",
       "5  Bangalore/Bengaluru, New Delhi, Hyderabad/Secu...   \n",
       "6  Bangalore/Bengaluru, Noida, Hyderabad/Secunder...   \n",
       "7  Bangalore/Bengaluru, Kochi/Cochin, New Delhi, ...   \n",
       "8                                Bangalore/Bengaluru   \n",
       "9  Bangalore/Bengaluru, Gurgaon/Gurugram\\n(WFH du...   \n",
       "\n",
       "                                  company_name  \n",
       "0              TATA CONSULTANCY SERVICES (TCS)  \n",
       "1                                          PwC  \n",
       "2                                   CitiusTech  \n",
       "3                                    Accenture  \n",
       "4              TATA CONSULTANCY SERVICES (TCS)  \n",
       "5                                        Wipro  \n",
       "6  NTT DATA Business Solutions Private Limited  \n",
       "7                                        Wipro  \n",
       "8                                   Concentrix  \n",
       "9                                   Concentrix  "
      ]
     },
     "execution_count": 218,
     "metadata": {},
     "output_type": "execute_result"
    }
   ],
   "source": [
    "df=pd.DataFrame({'job_title':job_title, 'job_location':job_location,'company_name':company_name})\n",
    "df"
   ]
  },
  {
   "cell_type": "code",
   "execution_count": null,
   "id": "e0fc1896",
   "metadata": {},
   "outputs": [],
   "source": []
  },
  {
   "cell_type": "markdown",
   "id": "bf97d2bc",
   "metadata": {},
   "source": [
    "Q3: In this question you have to scrape data using the filters available on the webpage as shown below:\n",
    "You have to use the location and salary filter.\n",
    "You have to scrape data for “Data Scientist” designation for first 10 job results. You have to scrape the job-title, job-location, company name, experience required.\n",
    "The location filter to be used is “Delhi/NCR”. The salary filter to be used is “3-6” lakhs\n",
    "\n",
    "The task will be done as shown in the below steps:\n",
    "1.first get the webpage https://www.naukri.com/\n",
    "2.Enter “Data Scientist” in “Skill, Designations, and Companies” field.\n",
    "3.Then click the search button.\n",
    "4.Then apply the location filter and salary filter by checking the respective boxes\n",
    "5.Then scrape the data for the first 10 jobs results you get.\n",
    "6.Finally create a dataframe of the scraped data.\n",
    "Note: All of the above steps have to be done in code. No step is to be done manually.\n"
   ]
  },
  {
   "cell_type": "code",
   "execution_count": null,
   "id": "9f09eaec",
   "metadata": {},
   "outputs": [],
   "source": []
  },
  {
   "cell_type": "code",
   "execution_count": 458,
   "id": "4f731ec6",
   "metadata": {},
   "outputs": [],
   "source": [
    "driver=webdriver.Chrome(r\"C:\\Users\\pranay\\Desktop\\chromedriver_win32 (1)\\chromedriver.exe\")"
   ]
  },
  {
   "cell_type": "code",
   "execution_count": 459,
   "id": "2bb41892",
   "metadata": {},
   "outputs": [],
   "source": [
    "driver.get(\"https://www.naukri.com/\")"
   ]
  },
  {
   "cell_type": "code",
   "execution_count": 460,
   "id": "eabaefef",
   "metadata": {},
   "outputs": [
    {
     "data": {
      "text/plain": [
       "<selenium.webdriver.remote.webelement.WebElement (session=\"ea8e7313f76bc95cfd854d91f0beda74\", element=\"eb0c4e50-24f0-4616-a3b0-3ca44cdd0e98\")>"
      ]
     },
     "execution_count": 460,
     "metadata": {},
     "output_type": "execute_result"
    }
   ],
   "source": [
    "designation=driver.find_element(By.CLASS_NAME,'suggestor-input')\n",
    "designation"
   ]
  },
  {
   "cell_type": "code",
   "execution_count": 461,
   "id": "9f022b42",
   "metadata": {},
   "outputs": [],
   "source": [
    "designation.send_keys('Data Scientist')"
   ]
  },
  {
   "cell_type": "code",
   "execution_count": 462,
   "id": "7e807bdc",
   "metadata": {},
   "outputs": [],
   "source": [
    "search_job=driver.find_element(By.CLASS_NAME,'qsbSubmit')\n",
    "search_job.click()"
   ]
  },
  {
   "cell_type": "code",
   "execution_count": 470,
   "id": "4b066022",
   "metadata": {},
   "outputs": [
    {
     "name": "stdout",
     "output_type": "stream",
     "text": [
      "<selenium.webdriver.remote.webelement.WebElement (session=\"ea8e7313f76bc95cfd854d91f0beda74\", element=\"17743330-2e8c-4292-87e6-dccb0c893a90\")>\n",
      "<selenium.webdriver.remote.webelement.WebElement (session=\"ea8e7313f76bc95cfd854d91f0beda74\", element=\"dc84ced1-1755-448a-817c-6cd3505f7a7e\")>\n",
      "<selenium.webdriver.remote.webelement.WebElement (session=\"ea8e7313f76bc95cfd854d91f0beda74\", element=\"dc66072b-d418-4274-8c2f-83d01f4a39d5\")>\n"
     ]
    }
   ],
   "source": [
    "# appplying the location filter\n",
    "filter_button=driver.find_elements(By.XPATH,\"//i[@class='fleft naukicon naukicon-checked']\")\n",
    "for i in filter_button:\n",
    "    if i.text==\"Delhi / NCR\":\n",
    "        i.click()\n",
    "        break\n",
    "    print(i)"
   ]
  },
  {
   "cell_type": "code",
   "execution_count": 471,
   "id": "88fd69e8",
   "metadata": {},
   "outputs": [
    {
     "name": "stdout",
     "output_type": "stream",
     "text": [
      "[<selenium.webdriver.remote.webelement.WebElement (session=\"ea8e7313f76bc95cfd854d91f0beda74\", element=\"17743330-2e8c-4292-87e6-dccb0c893a90\")>, <selenium.webdriver.remote.webelement.WebElement (session=\"ea8e7313f76bc95cfd854d91f0beda74\", element=\"dc84ced1-1755-448a-817c-6cd3505f7a7e\")>, <selenium.webdriver.remote.webelement.WebElement (session=\"ea8e7313f76bc95cfd854d91f0beda74\", element=\"dc66072b-d418-4274-8c2f-83d01f4a39d5\")>]\n"
     ]
    }
   ],
   "source": [
    "print(filter_button)"
   ]
  },
  {
   "cell_type": "code",
   "execution_count": 472,
   "id": "da7a77df",
   "metadata": {},
   "outputs": [
    {
     "name": "stdout",
     "output_type": "stream",
     "text": [
      "<selenium.webdriver.remote.webelement.WebElement (session=\"ea8e7313f76bc95cfd854d91f0beda74\", element=\"17743330-2e8c-4292-87e6-dccb0c893a90\")>\n",
      "<selenium.webdriver.remote.webelement.WebElement (session=\"ea8e7313f76bc95cfd854d91f0beda74\", element=\"dc84ced1-1755-448a-817c-6cd3505f7a7e\")>\n",
      "<selenium.webdriver.remote.webelement.WebElement (session=\"ea8e7313f76bc95cfd854d91f0beda74\", element=\"dc66072b-d418-4274-8c2f-83d01f4a39d5\")>\n"
     ]
    }
   ],
   "source": [
    "#Applying the salary filter\n",
    "filter_button=driver.find_elements(By.XPATH,\"//i[@class='fleft naukicon naukicon-checked']\")\n",
    "for i in filter_button:\n",
    "    if i.text==\"3-6 Lakhs\":\n",
    "        i.click()\n",
    "        break\n",
    "    print(i)"
   ]
  },
  {
   "cell_type": "code",
   "execution_count": 477,
   "id": "61e6c471",
   "metadata": {},
   "outputs": [
    {
     "name": "stdout",
     "output_type": "stream",
     "text": [
      "[<selenium.webdriver.remote.webelement.WebElement (session=\"ea8e7313f76bc95cfd854d91f0beda74\", element=\"17743330-2e8c-4292-87e6-dccb0c893a90\")>, <selenium.webdriver.remote.webelement.WebElement (session=\"ea8e7313f76bc95cfd854d91f0beda74\", element=\"dc84ced1-1755-448a-817c-6cd3505f7a7e\")>, <selenium.webdriver.remote.webelement.WebElement (session=\"ea8e7313f76bc95cfd854d91f0beda74\", element=\"dc66072b-d418-4274-8c2f-83d01f4a39d5\")>]\n"
     ]
    }
   ],
   "source": [
    "print(filter_button)"
   ]
  },
  {
   "cell_type": "code",
   "execution_count": 473,
   "id": "ee584422",
   "metadata": {},
   "outputs": [],
   "source": [
    "job_title=[]\n",
    "job_location=[]\n",
    "company_name=[]\n",
    "experience_required=[]"
   ]
  },
  {
   "cell_type": "code",
   "execution_count": 474,
   "id": "4e94195a",
   "metadata": {},
   "outputs": [],
   "source": [
    "title_tags=driver.find_elements(By.XPATH,\"//a[@class='title fw500 ellipsis']\")\n",
    "for i in title_tags[0:10]:\n",
    "    title=i.text\n",
    "    job_title.append(title)\n",
    "location_tags=driver.find_elements(By.XPATH,\"//li[@class='fleft grey-text br2 placeHolderLi location']\")\n",
    "for i in location_tags[0:10]:\n",
    "    location=i.text\n",
    "    job_location.append(location)\n",
    "company_tags=driver.find_elements(By.XPATH,\"//a[@class='subTitle ellipsis fleft']\")\n",
    "for i in company_tags[0:10]:\n",
    "    company=i.text\n",
    "    company_name.append(company)\n",
    "experience_tags=driver.find_elements(By.XPATH,\"//li[@class='fleft grey-text br2 placeHolderLi experience']\")\n",
    "for i in experience_tags[0:10]:\n",
    "    exp=i.text\n",
    "    experience_required.append(exp)"
   ]
  },
  {
   "cell_type": "code",
   "execution_count": 475,
   "id": "0cbe9683",
   "metadata": {},
   "outputs": [
    {
     "name": "stdout",
     "output_type": "stream",
     "text": [
      "10 10 10 10\n"
     ]
    }
   ],
   "source": [
    "print(len(job_title),len(job_location),len(company_name),len(experience_required))"
   ]
  },
  {
   "cell_type": "code",
   "execution_count": 476,
   "id": "262661da",
   "metadata": {},
   "outputs": [
    {
     "data": {
      "text/html": [
       "<div>\n",
       "<style scoped>\n",
       "    .dataframe tbody tr th:only-of-type {\n",
       "        vertical-align: middle;\n",
       "    }\n",
       "\n",
       "    .dataframe tbody tr th {\n",
       "        vertical-align: top;\n",
       "    }\n",
       "\n",
       "    .dataframe thead th {\n",
       "        text-align: right;\n",
       "    }\n",
       "</style>\n",
       "<table border=\"1\" class=\"dataframe\">\n",
       "  <thead>\n",
       "    <tr style=\"text-align: right;\">\n",
       "      <th></th>\n",
       "      <th>job_title</th>\n",
       "      <th>job_location</th>\n",
       "      <th>company_name</th>\n",
       "      <th>experience_required</th>\n",
       "    </tr>\n",
       "  </thead>\n",
       "  <tbody>\n",
       "    <tr>\n",
       "      <th>0</th>\n",
       "      <td>Job||Job Opening For AI Technologist - Data Sc...</td>\n",
       "      <td>New Delhi, Hyderabad/Secunderabad, Pune, Chenn...</td>\n",
       "      <td>Wipro</td>\n",
       "      <td>5-10 Yrs</td>\n",
       "    </tr>\n",
       "    <tr>\n",
       "      <th>1</th>\n",
       "      <td>Data Scientist - Noida/Bangalore</td>\n",
       "      <td>Noida, Bangalore/Bengaluru</td>\n",
       "      <td>EXL</td>\n",
       "      <td>5-10 Yrs</td>\n",
       "    </tr>\n",
       "    <tr>\n",
       "      <th>2</th>\n",
       "      <td>DigitalBCG GAMMA Data Scientist</td>\n",
       "      <td>New Delhi, Bangalore/Bengaluru</td>\n",
       "      <td>Boston Consulting Group</td>\n",
       "      <td>2-5 Yrs</td>\n",
       "    </tr>\n",
       "    <tr>\n",
       "      <th>3</th>\n",
       "      <td>Data Scientist - Predictive Analytics</td>\n",
       "      <td>Noida, Mumbai, Chandigarh, Hyderabad/Secundera...</td>\n",
       "      <td>Confidential</td>\n",
       "      <td>1-6 Yrs</td>\n",
       "    </tr>\n",
       "    <tr>\n",
       "      <th>4</th>\n",
       "      <td>Data Scientist</td>\n",
       "      <td>Gurgaon/Gurugram</td>\n",
       "      <td>Optum</td>\n",
       "      <td>2-7 Yrs</td>\n",
       "    </tr>\n",
       "    <tr>\n",
       "      <th>5</th>\n",
       "      <td>Chat-bot Developer / Data Scientist</td>\n",
       "      <td>Mumbai, New Delhi, Bangalore/Bengaluru\\n(WFH d...</td>\n",
       "      <td>Big Seo Buzz</td>\n",
       "      <td>2-7 Yrs</td>\n",
       "    </tr>\n",
       "    <tr>\n",
       "      <th>6</th>\n",
       "      <td>Data Scientist / Chat-bot Developer</td>\n",
       "      <td>New Delhi, Bangalore/Bengaluru, Mumbai (All Ar...</td>\n",
       "      <td>Big Seo Buzz</td>\n",
       "      <td>3-7 Yrs</td>\n",
       "    </tr>\n",
       "    <tr>\n",
       "      <th>7</th>\n",
       "      <td>Data Scientist - Engine Algorithm</td>\n",
       "      <td>Delhi / NCR, Kolkata, Mumbai, Hyderabad/Secund...</td>\n",
       "      <td>Primo Hiring</td>\n",
       "      <td>1-3 Yrs</td>\n",
       "    </tr>\n",
       "    <tr>\n",
       "      <th>8</th>\n",
       "      <td>Data Scientist For Healthcare Product team</td>\n",
       "      <td>Delhi / NCR, Chennai, Bangalore/Bengaluru</td>\n",
       "      <td>SECUREKLOUD TECHNOLOGIES</td>\n",
       "      <td>2-7 Yrs</td>\n",
       "    </tr>\n",
       "    <tr>\n",
       "      <th>9</th>\n",
       "      <td>Data Scientist</td>\n",
       "      <td>Noida, Gurgaon/Gurugram, Jaipur</td>\n",
       "      <td>Celebal Technologies</td>\n",
       "      <td>1-5 Yrs</td>\n",
       "    </tr>\n",
       "  </tbody>\n",
       "</table>\n",
       "</div>"
      ],
      "text/plain": [
       "                                           job_title  \\\n",
       "0  Job||Job Opening For AI Technologist - Data Sc...   \n",
       "1                   Data Scientist - Noida/Bangalore   \n",
       "2                    DigitalBCG GAMMA Data Scientist   \n",
       "3              Data Scientist - Predictive Analytics   \n",
       "4                                     Data Scientist   \n",
       "5                Chat-bot Developer / Data Scientist   \n",
       "6                Data Scientist / Chat-bot Developer   \n",
       "7                  Data Scientist - Engine Algorithm   \n",
       "8         Data Scientist For Healthcare Product team   \n",
       "9                                     Data Scientist   \n",
       "\n",
       "                                        job_location  \\\n",
       "0  New Delhi, Hyderabad/Secunderabad, Pune, Chenn...   \n",
       "1                         Noida, Bangalore/Bengaluru   \n",
       "2                     New Delhi, Bangalore/Bengaluru   \n",
       "3  Noida, Mumbai, Chandigarh, Hyderabad/Secundera...   \n",
       "4                                   Gurgaon/Gurugram   \n",
       "5  Mumbai, New Delhi, Bangalore/Bengaluru\\n(WFH d...   \n",
       "6  New Delhi, Bangalore/Bengaluru, Mumbai (All Ar...   \n",
       "7  Delhi / NCR, Kolkata, Mumbai, Hyderabad/Secund...   \n",
       "8          Delhi / NCR, Chennai, Bangalore/Bengaluru   \n",
       "9                    Noida, Gurgaon/Gurugram, Jaipur   \n",
       "\n",
       "               company_name experience_required  \n",
       "0                     Wipro            5-10 Yrs  \n",
       "1                       EXL            5-10 Yrs  \n",
       "2   Boston Consulting Group             2-5 Yrs  \n",
       "3              Confidential             1-6 Yrs  \n",
       "4                     Optum             2-7 Yrs  \n",
       "5              Big Seo Buzz             2-7 Yrs  \n",
       "6              Big Seo Buzz             3-7 Yrs  \n",
       "7              Primo Hiring             1-3 Yrs  \n",
       "8  SECUREKLOUD TECHNOLOGIES             2-7 Yrs  \n",
       "9      Celebal Technologies             1-5 Yrs  "
      ]
     },
     "execution_count": 476,
     "metadata": {},
     "output_type": "execute_result"
    }
   ],
   "source": [
    "df=pd.DataFrame({'job_title':job_title, 'job_location':job_location,'company_name':company_name,'experience_required':experience_required})\n",
    "df"
   ]
  },
  {
   "cell_type": "code",
   "execution_count": null,
   "id": "113393da",
   "metadata": {},
   "outputs": [],
   "source": []
  },
  {
   "cell_type": "code",
   "execution_count": 478,
   "id": "3e71eb0c",
   "metadata": {},
   "outputs": [],
   "source": [
    "driver.close()"
   ]
  },
  {
   "cell_type": "markdown",
   "id": "60624452",
   "metadata": {},
   "source": [
    "Q4: Scrape data of first 100 sunglasses listings on flipkart.com. You have to scrape four attributes:\n",
    "1.Brand\n",
    "2.Product Description\n",
    "3.Price\n",
    "The attributes which you have to scrape is ticked marked in the below image.\n",
    "To scrape the data you have to go through following steps:\n",
    "1.Go to Flipkart webpage by url : https://www.flipkart.com/\n",
    "2.Enter “sunglasses” in the search field where “search for products, brands and more” is written and\n",
    "click the search icon\n",
    "3.After that you will reach to the page having a lot of sunglasses. From this page you can scrap the required data as usual.\n",
    "4.After scraping data from the first page, go to the “Next” Button at the bottom other page , then click on it.\n",
    "5.Now scrape data from this page as usual\n",
    "6.Repeat this until you get data for 100 sunglasses.\n",
    "Note: That all of the above steps have to be done by coding only and not manually.\n"
   ]
  },
  {
   "cell_type": "code",
   "execution_count": null,
   "id": "20a4a04f",
   "metadata": {},
   "outputs": [],
   "source": []
  },
  {
   "cell_type": "code",
   "execution_count": 285,
   "id": "57fd1ad9",
   "metadata": {},
   "outputs": [],
   "source": [
    "# let's first connect to the web driver\n",
    "driver = webdriver.Chrome(r\"C:\\Users\\pranay\\Desktop\\chromedriver_win32 (1)\\chromedriver.exe\")"
   ]
  },
  {
   "cell_type": "code",
   "execution_count": 286,
   "id": "b4880b65",
   "metadata": {},
   "outputs": [],
   "source": [
    "url=\"https://www.flipkart.com/\"\n",
    "driver.get(url)"
   ]
  },
  {
   "cell_type": "code",
   "execution_count": 288,
   "id": "bbb04526",
   "metadata": {
    "code_folding": []
   },
   "outputs": [
    {
     "data": {
      "text/plain": [
       "<selenium.webdriver.remote.webelement.WebElement (session=\"83854901a55cda0ae12dcfa872326f7c\", element=\"9a3839e6-33c4-4634-8680-ea8dfdd7d903\")>"
      ]
     },
     "execution_count": 288,
     "metadata": {},
     "output_type": "execute_result"
    }
   ],
   "source": [
    "# finding element for job search bar\n",
    "search_g= driver.find_element(By.XPATH,\"//input[@type='text']\")\n",
    "search_g"
   ]
  },
  {
   "cell_type": "code",
   "execution_count": 289,
   "id": "a3e36bbb",
   "metadata": {},
   "outputs": [],
   "source": [
    "# write on search bar\n",
    "search_g.send_keys('sunglasses')"
   ]
  },
  {
   "cell_type": "code",
   "execution_count": 291,
   "id": "adbdf62f",
   "metadata": {},
   "outputs": [
    {
     "data": {
      "text/plain": [
       "<selenium.webdriver.remote.webelement.WebElement (session=\"83854901a55cda0ae12dcfa872326f7c\", element=\"a033407f-3b97-4168-886d-b4fbcbbf7b7d\")>"
      ]
     },
     "execution_count": 291,
     "metadata": {},
     "output_type": "execute_result"
    }
   ],
   "source": [
    "search_btn=driver.find_element(By.XPATH,\"//button[@class='L0Z3Pu']\")\n",
    "search_btn"
   ]
  },
  {
   "cell_type": "code",
   "execution_count": 293,
   "id": "46cc9f23",
   "metadata": {},
   "outputs": [],
   "source": [
    "search_btn=driver.find_element(By.CLASS_NAME,'L0Z3Pu')\n",
    "search_btn.click()"
   ]
  },
  {
   "cell_type": "code",
   "execution_count": 294,
   "id": "de663d49",
   "metadata": {},
   "outputs": [],
   "source": [
    "B_name=[]\n",
    "Price=[]\n",
    "P_desc=[]\n",
    "Discount=[]"
   ]
  },
  {
   "cell_type": "code",
   "execution_count": 296,
   "id": "4bbc58c7",
   "metadata": {},
   "outputs": [],
   "source": [
    "for i in range(3):\n",
    "    b_name=driver.find_elements_by_xpath(\"//div[@class='_2WkVRV']\")\n",
    "    p_desc=driver.find_elements_by_xpath(\"//a[@class='IRpwTa']\")\n",
    "    price =driver.find_elements_by_xpath(\"//div[@class='_25b18c']\")\n",
    "    discount=driver.find_elements_by_xpath(\"//div[@class='_3Ay6Sb']\")\n",
    "    \n",
    "    for j  in b_name:\n",
    "        B_name.append(j.text)\n",
    "    B_name[:100]    \n",
    "    \n",
    "    \n",
    "    \n",
    "    for k in p_desc:\n",
    "        P_desc.append(k.text)\n",
    "    P_desc[:100] \n",
    "    \n",
    "    \n",
    "    for l in price:\n",
    "        Price.append(l.text)\n",
    "    Price[:100] \n",
    "    \n",
    "    \n",
    "    for t in discount:\n",
    "        Discount.append(t.text)\n",
    "    Discount[:100]"
   ]
  },
  {
   "cell_type": "code",
   "execution_count": 989,
   "id": "b9059fad",
   "metadata": {},
   "outputs": [
    {
     "data": {
      "text/plain": [
       "[]"
      ]
     },
     "execution_count": 989,
     "metadata": {},
     "output_type": "execute_result"
    }
   ],
   "source": [
    "B_name[:100]"
   ]
  },
  {
   "cell_type": "code",
   "execution_count": 298,
   "id": "6769ba7f",
   "metadata": {},
   "outputs": [
    {
     "name": "stdout",
     "output_type": "stream",
     "text": [
      "100\n",
      "100\n",
      "100\n",
      "100\n"
     ]
    },
    {
     "data": {
      "text/plain": [
       "(None, None, None, None)"
      ]
     },
     "execution_count": 298,
     "metadata": {},
     "output_type": "execute_result"
    }
   ],
   "source": [
    "print(len(B_name[:100])),print(len(Price[:100])),print(len(P_desc[:100])),print(len(Discount[:100]))"
   ]
  },
  {
   "cell_type": "code",
   "execution_count": 299,
   "id": "9d648093",
   "metadata": {},
   "outputs": [],
   "source": [
    "sun_gl=pd.DataFrame({})\n",
    "sun_gl['Brand_name']=B_name[:100]\n",
    "sun_gl['P_price']=Price[:100]\n",
    "sun_gl['Pr_desc']=P_desc[:100]\n",
    "sun_gl['P_discount']=Discount[:100]"
   ]
  },
  {
   "cell_type": "code",
   "execution_count": 300,
   "id": "18639897",
   "metadata": {},
   "outputs": [
    {
     "data": {
      "text/html": [
       "<div>\n",
       "<style scoped>\n",
       "    .dataframe tbody tr th:only-of-type {\n",
       "        vertical-align: middle;\n",
       "    }\n",
       "\n",
       "    .dataframe tbody tr th {\n",
       "        vertical-align: top;\n",
       "    }\n",
       "\n",
       "    .dataframe thead th {\n",
       "        text-align: right;\n",
       "    }\n",
       "</style>\n",
       "<table border=\"1\" class=\"dataframe\">\n",
       "  <thead>\n",
       "    <tr style=\"text-align: right;\">\n",
       "      <th></th>\n",
       "      <th>Brand_name</th>\n",
       "      <th>P_price</th>\n",
       "      <th>Pr_desc</th>\n",
       "      <th>P_discount</th>\n",
       "    </tr>\n",
       "  </thead>\n",
       "  <tbody>\n",
       "    <tr>\n",
       "      <th>0</th>\n",
       "      <td>VINCENT CHASE</td>\n",
       "      <td>₹949₹1,99952% off</td>\n",
       "      <td>by Lenskart Polarized, UV Protection Cat-eye S...</td>\n",
       "      <td>52% off</td>\n",
       "    </tr>\n",
       "    <tr>\n",
       "      <th>1</th>\n",
       "      <td>VINCENT CHASE</td>\n",
       "      <td>₹1,415₹1,99929% off</td>\n",
       "      <td>by Lenskart Polarized, UV Protection Aviator S...</td>\n",
       "      <td>29% off</td>\n",
       "    </tr>\n",
       "    <tr>\n",
       "      <th>2</th>\n",
       "      <td>Fastrack</td>\n",
       "      <td>₹799₹99920% off</td>\n",
       "      <td>UV Protection Wayfarer Sunglasses (Free Size)</td>\n",
       "      <td>20% off</td>\n",
       "    </tr>\n",
       "    <tr>\n",
       "      <th>3</th>\n",
       "      <td>DAHAAZIL</td>\n",
       "      <td>₹204₹99979% off</td>\n",
       "      <td>UV Protection, Night Vision, Riding Glasses Wa...</td>\n",
       "      <td>79% off</td>\n",
       "    </tr>\n",
       "    <tr>\n",
       "      <th>4</th>\n",
       "      <td>SRPM</td>\n",
       "      <td>₹211₹1,29983% off</td>\n",
       "      <td>UV Protection Wayfarer Sunglasses (50)</td>\n",
       "      <td>83% off</td>\n",
       "    </tr>\n",
       "    <tr>\n",
       "      <th>...</th>\n",
       "      <td>...</td>\n",
       "      <td>...</td>\n",
       "      <td>...</td>\n",
       "      <td>...</td>\n",
       "    </tr>\n",
       "    <tr>\n",
       "      <th>95</th>\n",
       "      <td>VINCENT CHASE</td>\n",
       "      <td>₹264₹2,59989% off</td>\n",
       "      <td>by Lenskart Polarized, UV Protection Aviator S...</td>\n",
       "      <td>50% off</td>\n",
       "    </tr>\n",
       "    <tr>\n",
       "      <th>96</th>\n",
       "      <td>NuVew</td>\n",
       "      <td>₹267₹99973% off</td>\n",
       "      <td>UV Protection Aviator Sunglasses (57)</td>\n",
       "      <td>73% off</td>\n",
       "    </tr>\n",
       "    <tr>\n",
       "      <th>97</th>\n",
       "      <td>LIZA ANGEL</td>\n",
       "      <td>₹1,229₹1,99938% off</td>\n",
       "      <td>Riding Glasses, Night Vision Spectacle Sunglas...</td>\n",
       "      <td>80% off</td>\n",
       "    </tr>\n",
       "    <tr>\n",
       "      <th>98</th>\n",
       "      <td>Fastrack</td>\n",
       "      <td>₹298₹2,49588% off</td>\n",
       "      <td>UV Protection Shield Sunglasses (Free Size)</td>\n",
       "      <td>20% off</td>\n",
       "    </tr>\n",
       "    <tr>\n",
       "      <th>99</th>\n",
       "      <td>VINCENT CHASE</td>\n",
       "      <td>₹279₹1,59982% off</td>\n",
       "      <td>by Lenskart Polarized, UV Protection Cat-eye S...</td>\n",
       "      <td>57% off</td>\n",
       "    </tr>\n",
       "  </tbody>\n",
       "</table>\n",
       "<p>100 rows × 4 columns</p>\n",
       "</div>"
      ],
      "text/plain": [
       "       Brand_name              P_price  \\\n",
       "0   VINCENT CHASE    ₹949₹1,99952% off   \n",
       "1   VINCENT CHASE  ₹1,415₹1,99929% off   \n",
       "2        Fastrack      ₹799₹99920% off   \n",
       "3        DAHAAZIL      ₹204₹99979% off   \n",
       "4            SRPM    ₹211₹1,29983% off   \n",
       "..            ...                  ...   \n",
       "95  VINCENT CHASE    ₹264₹2,59989% off   \n",
       "96          NuVew      ₹267₹99973% off   \n",
       "97     LIZA ANGEL  ₹1,229₹1,99938% off   \n",
       "98       Fastrack    ₹298₹2,49588% off   \n",
       "99  VINCENT CHASE    ₹279₹1,59982% off   \n",
       "\n",
       "                                              Pr_desc P_discount  \n",
       "0   by Lenskart Polarized, UV Protection Cat-eye S...    52% off  \n",
       "1   by Lenskart Polarized, UV Protection Aviator S...    29% off  \n",
       "2       UV Protection Wayfarer Sunglasses (Free Size)    20% off  \n",
       "3   UV Protection, Night Vision, Riding Glasses Wa...    79% off  \n",
       "4              UV Protection Wayfarer Sunglasses (50)    83% off  \n",
       "..                                                ...        ...  \n",
       "95  by Lenskart Polarized, UV Protection Aviator S...    50% off  \n",
       "96              UV Protection Aviator Sunglasses (57)    73% off  \n",
       "97  Riding Glasses, Night Vision Spectacle Sunglas...    80% off  \n",
       "98        UV Protection Shield Sunglasses (Free Size)    20% off  \n",
       "99  by Lenskart Polarized, UV Protection Cat-eye S...    57% off  \n",
       "\n",
       "[100 rows x 4 columns]"
      ]
     },
     "execution_count": 300,
     "metadata": {},
     "output_type": "execute_result"
    }
   ],
   "source": [
    "sun_gl"
   ]
  },
  {
   "cell_type": "code",
   "execution_count": 301,
   "id": "e533e002",
   "metadata": {},
   "outputs": [],
   "source": [
    "driver.close()"
   ]
  },
  {
   "cell_type": "code",
   "execution_count": null,
   "id": "83715446",
   "metadata": {},
   "outputs": [],
   "source": []
  },
  {
   "cell_type": "code",
   "execution_count": null,
   "id": "ae8226af",
   "metadata": {},
   "outputs": [],
   "source": []
  },
  {
   "cell_type": "markdown",
   "id": "8185211d",
   "metadata": {},
   "source": [
    "Q5: Scrape 100 reviews data from flipkart.com for iphone11 phone. This task will be done in following steps:\n",
    "1.First get the webpage  https://www.flipkart.com/\n",
    "2.Enter “iphone 11” in “Search” field .\n",
    "3.Then click the search button.\n",
    "\n",
    "You will reach to the below shown webpage .\n",
    "As shown in the above page you have to scrape the tick marked attributes.These are:\n",
    "1.Rating\n",
    "2.Review summary\n",
    "3.Full review\n",
    "4.You have to scrape this data for first 100 reviews.\n",
    "Note: All the steps required during scraping should be done through code only and not manually.\n"
   ]
  },
  {
   "cell_type": "code",
   "execution_count": null,
   "id": "254319bb",
   "metadata": {},
   "outputs": [],
   "source": []
  },
  {
   "cell_type": "code",
   "execution_count": 1252,
   "id": "a56a66a2",
   "metadata": {},
   "outputs": [],
   "source": [
    "# let's first connect to the web driver\n",
    "driver = webdriver.Chrome(r\"C:\\Users\\pranay\\Desktop\\chromedriver_win32 (1)\\chromedriver.exe\")"
   ]
  },
  {
   "cell_type": "code",
   "execution_count": 1253,
   "id": "3b405922",
   "metadata": {},
   "outputs": [],
   "source": [
    "url=\"https://www.flipkart.com/\"\n",
    "driver.get(url)"
   ]
  },
  {
   "cell_type": "code",
   "execution_count": 1254,
   "id": "181a876d",
   "metadata": {},
   "outputs": [
    {
     "data": {
      "text/plain": [
       "<selenium.webdriver.remote.webelement.WebElement (session=\"57c90aab9ee66704edba83548f5d0846\", element=\"09c9c3cd-81ab-450d-b824-713141b28696\")>"
      ]
     },
     "execution_count": 1254,
     "metadata": {},
     "output_type": "execute_result"
    }
   ],
   "source": [
    "login= driver.find_element(By.XPATH,\"//button[@class='_2KpZ6l _2doB4z']\")\n",
    "login"
   ]
  },
  {
   "cell_type": "code",
   "execution_count": 1255,
   "id": "f1c0bc22",
   "metadata": {},
   "outputs": [],
   "source": [
    "login.click()"
   ]
  },
  {
   "cell_type": "code",
   "execution_count": 1259,
   "id": "63464e80",
   "metadata": {},
   "outputs": [],
   "source": [
    "search_g= driver.find_element(By.XPATH,\"//input[@class='_3704LK']\")"
   ]
  },
  {
   "cell_type": "code",
   "execution_count": 1260,
   "id": "9cc65f3f",
   "metadata": {},
   "outputs": [],
   "source": [
    "# write on search bar\n",
    "search_g.send_keys('iphone 11')"
   ]
  },
  {
   "cell_type": "code",
   "execution_count": 1262,
   "id": "1d414771",
   "metadata": {},
   "outputs": [
    {
     "data": {
      "text/plain": [
       "<selenium.webdriver.remote.webelement.WebElement (session=\"57c90aab9ee66704edba83548f5d0846\", element=\"9f455167-9704-40bf-b251-d76aed95a16e\")>"
      ]
     },
     "execution_count": 1262,
     "metadata": {},
     "output_type": "execute_result"
    }
   ],
   "source": [
    "search_btn=driver.find_element(By.TAG_NAME,'svg')\n",
    "search_btn"
   ]
  },
  {
   "cell_type": "code",
   "execution_count": 1264,
   "id": "2ab0f6cc",
   "metadata": {},
   "outputs": [],
   "source": [
    "search_btn.click()"
   ]
  },
  {
   "cell_type": "code",
   "execution_count": 1265,
   "id": "48fce1eb",
   "metadata": {},
   "outputs": [],
   "source": [
    "search_btn=driver.find_element(By.CLASS_NAME,'_4rR01T')\n",
    "search_btn.click()"
   ]
  },
  {
   "cell_type": "code",
   "execution_count": 1270,
   "id": "6c5a2bc9",
   "metadata": {},
   "outputs": [
    {
     "data": {
      "text/plain": [
       "[]"
      ]
     },
     "execution_count": 1270,
     "metadata": {},
     "output_type": "execute_result"
    }
   ],
   "source": [
    "url=driver.find_elements(By.XPATH,'//div[@class=\"_3UAT2v _16PBlm\"]')\n",
    "url"
   ]
  },
  {
   "cell_type": "code",
   "execution_count": 1269,
   "id": "f32072b1",
   "metadata": {},
   "outputs": [],
   "source": [
    "for i in url[0:5]:\n",
    "    print(i.get_attribute('href'))"
   ]
  },
  {
   "cell_type": "code",
   "execution_count": null,
   "id": "e048632f",
   "metadata": {},
   "outputs": [],
   "source": []
  },
  {
   "cell_type": "code",
   "execution_count": 1280,
   "id": "9bb89b96",
   "metadata": {},
   "outputs": [],
   "source": [
    "B_name=[]\n",
    "Price=[]\n",
    "P_desc=[]\n"
   ]
  },
  {
   "cell_type": "code",
   "execution_count": 1281,
   "id": "c05c660c",
   "metadata": {},
   "outputs": [],
   "source": [
    "for i in range(4):\n",
    "    rating=driver.find_elements(By.XPATH,\"//div[@class='_3LWZlK _1BLPMq']\")\n",
    "    review_summary=driver.find_elements(By.XPATH,\"//p[@class='_2-N8zT']\")\n",
    "    full_review =driver.find_elements(By.XPATH,\"//div[@class='t-ZTKy']\")\n",
    "    \n",
    "    \n",
    "    for j in rating:\n",
    "        B_name.append(j.text)\n",
    "    B_name[:100]    \n",
    "    \n",
    "    \n",
    "    \n",
    "    for k in review_summary:\n",
    "        P_desc.append(k.text)\n",
    "    P_desc[:100] \n",
    "    \n",
    "    \n",
    "    for l in full_review:\n",
    "        Price.append(l.text)\n",
    "    Price[:100] \n",
    "    \n",
    "    \n",
    "    "
   ]
  },
  {
   "cell_type": "code",
   "execution_count": 1282,
   "id": "c1c088ea",
   "metadata": {},
   "outputs": [
    {
     "data": {
      "text/plain": [
       "[]"
      ]
     },
     "execution_count": 1282,
     "metadata": {},
     "output_type": "execute_result"
    }
   ],
   "source": [
    "B_name[:100]"
   ]
  },
  {
   "cell_type": "code",
   "execution_count": 1283,
   "id": "0e626f0d",
   "metadata": {},
   "outputs": [
    {
     "name": "stdout",
     "output_type": "stream",
     "text": [
      "0\n",
      "0\n",
      "0\n"
     ]
    },
    {
     "data": {
      "text/plain": [
       "(None, None, None)"
      ]
     },
     "execution_count": 1283,
     "metadata": {},
     "output_type": "execute_result"
    }
   ],
   "source": [
    "print(len(B_name[:100])),print(len(Price[:100])),print(len(P_desc[:100]))"
   ]
  },
  {
   "cell_type": "code",
   "execution_count": 1116,
   "id": "e54dd184",
   "metadata": {},
   "outputs": [],
   "source": [
    "sun_gl=pd.DataFrame({})\n",
    "sun_gl['Brand_name']=B_name[:100]\n",
    "sun_gl['P_price']=Price[:100]\n",
    "sun_gl['Pr_desc']=P_desc[:100]\n",
    "sun_gl['P_discount']=Discount[:100]"
   ]
  },
  {
   "cell_type": "code",
   "execution_count": 1117,
   "id": "f54c7632",
   "metadata": {},
   "outputs": [
    {
     "data": {
      "text/html": [
       "<div>\n",
       "<style scoped>\n",
       "    .dataframe tbody tr th:only-of-type {\n",
       "        vertical-align: middle;\n",
       "    }\n",
       "\n",
       "    .dataframe tbody tr th {\n",
       "        vertical-align: top;\n",
       "    }\n",
       "\n",
       "    .dataframe thead th {\n",
       "        text-align: right;\n",
       "    }\n",
       "</style>\n",
       "<table border=\"1\" class=\"dataframe\">\n",
       "  <thead>\n",
       "    <tr style=\"text-align: right;\">\n",
       "      <th></th>\n",
       "      <th>Brand_name</th>\n",
       "      <th>P_price</th>\n",
       "      <th>Pr_desc</th>\n",
       "      <th>P_discount</th>\n",
       "    </tr>\n",
       "  </thead>\n",
       "  <tbody>\n",
       "    <tr>\n",
       "      <th>0</th>\n",
       "      <td>NaN</td>\n",
       "      <td>NaN</td>\n",
       "      <td>NaN</td>\n",
       "      <td>5% off</td>\n",
       "    </tr>\n",
       "    <tr>\n",
       "      <th>1</th>\n",
       "      <td>NaN</td>\n",
       "      <td>NaN</td>\n",
       "      <td>NaN</td>\n",
       "      <td>5% off</td>\n",
       "    </tr>\n",
       "    <tr>\n",
       "      <th>2</th>\n",
       "      <td>NaN</td>\n",
       "      <td>NaN</td>\n",
       "      <td>NaN</td>\n",
       "      <td>5% off</td>\n",
       "    </tr>\n",
       "    <tr>\n",
       "      <th>3</th>\n",
       "      <td>NaN</td>\n",
       "      <td>NaN</td>\n",
       "      <td>NaN</td>\n",
       "      <td>5% off</td>\n",
       "    </tr>\n",
       "    <tr>\n",
       "      <th>4</th>\n",
       "      <td>NaN</td>\n",
       "      <td>NaN</td>\n",
       "      <td>NaN</td>\n",
       "      <td>5% off</td>\n",
       "    </tr>\n",
       "    <tr>\n",
       "      <th>5</th>\n",
       "      <td>NaN</td>\n",
       "      <td>NaN</td>\n",
       "      <td>NaN</td>\n",
       "      <td>5% off</td>\n",
       "    </tr>\n",
       "    <tr>\n",
       "      <th>6</th>\n",
       "      <td>NaN</td>\n",
       "      <td>NaN</td>\n",
       "      <td>NaN</td>\n",
       "      <td>3% off</td>\n",
       "    </tr>\n",
       "    <tr>\n",
       "      <th>7</th>\n",
       "      <td>NaN</td>\n",
       "      <td>NaN</td>\n",
       "      <td>NaN</td>\n",
       "      <td>9% off</td>\n",
       "    </tr>\n",
       "    <tr>\n",
       "      <th>8</th>\n",
       "      <td>NaN</td>\n",
       "      <td>NaN</td>\n",
       "      <td>NaN</td>\n",
       "      <td>5% off</td>\n",
       "    </tr>\n",
       "    <tr>\n",
       "      <th>9</th>\n",
       "      <td>NaN</td>\n",
       "      <td>NaN</td>\n",
       "      <td>NaN</td>\n",
       "      <td>5% off</td>\n",
       "    </tr>\n",
       "    <tr>\n",
       "      <th>10</th>\n",
       "      <td>NaN</td>\n",
       "      <td>NaN</td>\n",
       "      <td>NaN</td>\n",
       "      <td>5% off</td>\n",
       "    </tr>\n",
       "    <tr>\n",
       "      <th>11</th>\n",
       "      <td>NaN</td>\n",
       "      <td>NaN</td>\n",
       "      <td>NaN</td>\n",
       "      <td>5% off</td>\n",
       "    </tr>\n",
       "    <tr>\n",
       "      <th>12</th>\n",
       "      <td>NaN</td>\n",
       "      <td>NaN</td>\n",
       "      <td>NaN</td>\n",
       "      <td>5% off</td>\n",
       "    </tr>\n",
       "    <tr>\n",
       "      <th>13</th>\n",
       "      <td>NaN</td>\n",
       "      <td>NaN</td>\n",
       "      <td>NaN</td>\n",
       "      <td>5% off</td>\n",
       "    </tr>\n",
       "    <tr>\n",
       "      <th>14</th>\n",
       "      <td>NaN</td>\n",
       "      <td>NaN</td>\n",
       "      <td>NaN</td>\n",
       "      <td>3% off</td>\n",
       "    </tr>\n",
       "    <tr>\n",
       "      <th>15</th>\n",
       "      <td>NaN</td>\n",
       "      <td>NaN</td>\n",
       "      <td>NaN</td>\n",
       "      <td>9% off</td>\n",
       "    </tr>\n",
       "    <tr>\n",
       "      <th>16</th>\n",
       "      <td>NaN</td>\n",
       "      <td>NaN</td>\n",
       "      <td>NaN</td>\n",
       "      <td>5% off</td>\n",
       "    </tr>\n",
       "    <tr>\n",
       "      <th>17</th>\n",
       "      <td>NaN</td>\n",
       "      <td>NaN</td>\n",
       "      <td>NaN</td>\n",
       "      <td>5% off</td>\n",
       "    </tr>\n",
       "    <tr>\n",
       "      <th>18</th>\n",
       "      <td>NaN</td>\n",
       "      <td>NaN</td>\n",
       "      <td>NaN</td>\n",
       "      <td>5% off</td>\n",
       "    </tr>\n",
       "    <tr>\n",
       "      <th>19</th>\n",
       "      <td>NaN</td>\n",
       "      <td>NaN</td>\n",
       "      <td>NaN</td>\n",
       "      <td>5% off</td>\n",
       "    </tr>\n",
       "    <tr>\n",
       "      <th>20</th>\n",
       "      <td>NaN</td>\n",
       "      <td>NaN</td>\n",
       "      <td>NaN</td>\n",
       "      <td>5% off</td>\n",
       "    </tr>\n",
       "    <tr>\n",
       "      <th>21</th>\n",
       "      <td>NaN</td>\n",
       "      <td>NaN</td>\n",
       "      <td>NaN</td>\n",
       "      <td>5% off</td>\n",
       "    </tr>\n",
       "    <tr>\n",
       "      <th>22</th>\n",
       "      <td>NaN</td>\n",
       "      <td>NaN</td>\n",
       "      <td>NaN</td>\n",
       "      <td>3% off</td>\n",
       "    </tr>\n",
       "    <tr>\n",
       "      <th>23</th>\n",
       "      <td>NaN</td>\n",
       "      <td>NaN</td>\n",
       "      <td>NaN</td>\n",
       "      <td>9% off</td>\n",
       "    </tr>\n",
       "  </tbody>\n",
       "</table>\n",
       "</div>"
      ],
      "text/plain": [
       "    Brand_name  P_price  Pr_desc P_discount\n",
       "0          NaN      NaN      NaN     5% off\n",
       "1          NaN      NaN      NaN     5% off\n",
       "2          NaN      NaN      NaN     5% off\n",
       "3          NaN      NaN      NaN     5% off\n",
       "4          NaN      NaN      NaN     5% off\n",
       "5          NaN      NaN      NaN     5% off\n",
       "6          NaN      NaN      NaN     3% off\n",
       "7          NaN      NaN      NaN     9% off\n",
       "8          NaN      NaN      NaN     5% off\n",
       "9          NaN      NaN      NaN     5% off\n",
       "10         NaN      NaN      NaN     5% off\n",
       "11         NaN      NaN      NaN     5% off\n",
       "12         NaN      NaN      NaN     5% off\n",
       "13         NaN      NaN      NaN     5% off\n",
       "14         NaN      NaN      NaN     3% off\n",
       "15         NaN      NaN      NaN     9% off\n",
       "16         NaN      NaN      NaN     5% off\n",
       "17         NaN      NaN      NaN     5% off\n",
       "18         NaN      NaN      NaN     5% off\n",
       "19         NaN      NaN      NaN     5% off\n",
       "20         NaN      NaN      NaN     5% off\n",
       "21         NaN      NaN      NaN     5% off\n",
       "22         NaN      NaN      NaN     3% off\n",
       "23         NaN      NaN      NaN     9% off"
      ]
     },
     "execution_count": 1117,
     "metadata": {},
     "output_type": "execute_result"
    }
   ],
   "source": [
    "sun_gl"
   ]
  },
  {
   "cell_type": "code",
   "execution_count": null,
   "id": "3fb6690f",
   "metadata": {},
   "outputs": [],
   "source": []
  },
  {
   "cell_type": "code",
   "execution_count": null,
   "id": "33013612",
   "metadata": {},
   "outputs": [],
   "source": []
  },
  {
   "cell_type": "markdown",
   "id": "935534a4",
   "metadata": {},
   "source": [
    "Q7: Go to the link - https://www.myntra.com/shoes\n",
    "Set second Price filter and Color filter to “Black”, as shown in the below image.\n",
    "And then scrape First 100 shoes data you get. The data should include “Brand” of the shoes , Short Shoe description, price of the shoe as shown in the below image.\n"
   ]
  },
  {
   "cell_type": "code",
   "execution_count": null,
   "id": "ccdac7cd",
   "metadata": {},
   "outputs": [],
   "source": []
  },
  {
   "cell_type": "code",
   "execution_count": 1284,
   "id": "90be19b2",
   "metadata": {},
   "outputs": [],
   "source": [
    "driver=webdriver.Chrome(r\"C:\\Users\\pranay\\Desktop\\chromedriver_win32 (1)\\chromedriver.exe\")"
   ]
  },
  {
   "cell_type": "code",
   "execution_count": 1285,
   "id": "22753474",
   "metadata": {},
   "outputs": [],
   "source": [
    "driver.get('https://www.myntra.com/shoes')"
   ]
  },
  {
   "cell_type": "code",
   "execution_count": 1293,
   "id": "ed0792ef",
   "metadata": {},
   "outputs": [],
   "source": [
    "# appplying the price filter\n",
    "filter_button=driver.find_elements(By.XPATH,\"//label[@class='common-customerCheckbox vertical-filters-label']\")\n",
    "for i in filter_button:\n",
    "    if i.text==\"Rs. 6627 to Rs. 13085\":\n",
    "        i.click()\n",
    "        break"
   ]
  },
  {
   "cell_type": "code",
   "execution_count": 1294,
   "id": "35e2b902",
   "metadata": {},
   "outputs": [],
   "source": [
    "#Applying the black colur filter\n",
    "filter_button=driver.find_elements(By.XPATH,\"//li[@class='colour-listItem']\")\n",
    "for i in filter_button:\n",
    "    if i.text==\"Black\":\n",
    "        i.click()\n",
    "        break"
   ]
  },
  {
   "cell_type": "code",
   "execution_count": 1295,
   "id": "8aeb3900",
   "metadata": {},
   "outputs": [],
   "source": [
    "B_name=[]\n",
    "Price=[]\n",
    "P_desc=[]"
   ]
  },
  {
   "cell_type": "code",
   "execution_count": 1296,
   "id": "19b1ba24",
   "metadata": {},
   "outputs": [],
   "source": [
    "for i in range(2):\n",
    "    b_name=driver.find_elements(By.XPATH,\"//h1[@class='pdp-title']\")\n",
    "    p_desc=driver.find_elements(By.XPATH,\"//h1[@class='name']\")\n",
    "    price =driver.find_elements(By.XPATH,\"//div[@class='product-price']\")\n",
    " \n",
    "    for j  in b_name:\n",
    "        B_name.append(j.text)\n",
    "    B_name[:100]    \n",
    "    \n",
    "    \n",
    "    \n",
    "    for k in p_desc:\n",
    "        P_desc.append(k.text)\n",
    "    P_desc[:100] \n",
    "    \n",
    "    \n",
    "    for l in price:\n",
    "        Price.append(l.text)\n",
    "    Price[:100] "
   ]
  },
  {
   "cell_type": "code",
   "execution_count": 1297,
   "id": "10edc79f",
   "metadata": {},
   "outputs": [
    {
     "name": "stdout",
     "output_type": "stream",
     "text": [
      "0\n",
      "100\n",
      "0\n"
     ]
    },
    {
     "data": {
      "text/plain": [
       "(None, None, None)"
      ]
     },
     "execution_count": 1297,
     "metadata": {},
     "output_type": "execute_result"
    }
   ],
   "source": [
    "print(len(B_name[:100])),print(len(Price[:100])),print(len(P_desc[:100]))"
   ]
  },
  {
   "cell_type": "code",
   "execution_count": 1298,
   "id": "e7bdae26",
   "metadata": {},
   "outputs": [
    {
     "name": "stdout",
     "output_type": "stream",
     "text": [
      "['Rs. 7465Rs. 8295(10% OFF)', 'Rs. 7199Rs. 8999(20% OFF)', 'Rs. 11895Rs. 13995(15% OFF)', 'Rs. 10795', 'Rs. 7199Rs. 8999(20% OFF)', 'Rs. 8999', 'Rs. 9899Rs. 10999(10% OFF)', 'Rs. 12795', 'Rs. 8005Rs. 8895(10% OFF)', 'Rs. 9749Rs. 12999(25% OFF)', 'Rs. 7915Rs. 8795(10% OFF)', 'Rs. 6719Rs. 13999(52% OFF)', 'Rs. 8499Rs. 9999(15% OFF)', 'Rs. 7649Rs. 8999(15% OFF)', 'Rs. 11999Rs. 14999(20% OFF)', 'Rs. 6749Rs. 8999(25% OFF)', 'Rs. 7495', 'Rs. 9999', 'Rs. 7124Rs. 9499(25% OFF)', 'Rs. 10999', 'Rs. 7465Rs. 8295(10% OFF)', 'Rs. 8295', 'Rs. 8499Rs. 9999(15% OFF)', 'Rs. 7999', 'Rs. 12999', 'Rs. 9999', 'Rs. 7465Rs. 8295(10% OFF)', 'Rs. 9999', 'Rs. 9999', 'Rs. 10495', 'Rs. 8399Rs. 13999(40% OFF)', 'Rs. 11999', 'Rs. 6795', 'Rs. 9999', 'Rs. 6999', 'Rs. 10999', 'Rs. 8249Rs. 10999(25% OFF)', 'Rs. 6999', 'Rs. 7999Rs. 9999(20% OFF)', 'Rs. 8725Rs. 9695(10% OFF)', 'Rs. 11899Rs. 13999(15% OFF)', 'Rs. 7199Rs. 8999(20% OFF)', 'Rs. 12999', 'Rs. 6799Rs. 7999(15% OFF)', 'Rs. 11049Rs. 12999(15% OFF)', 'Rs. 10199Rs. 11999(15% OFF)', 'Rs. 9749Rs. 12999(25% OFF)', 'Rs. 7199Rs. 11999(40% OFF)', 'Rs. 12999', 'Rs. 7450', 'Rs. 7465Rs. 8295(10% OFF)', 'Rs. 7199Rs. 8999(20% OFF)', 'Rs. 11895Rs. 13995(15% OFF)', 'Rs. 10795', 'Rs. 7199Rs. 8999(20% OFF)', 'Rs. 8999', 'Rs. 9899Rs. 10999(10% OFF)', 'Rs. 12795', 'Rs. 8005Rs. 8895(10% OFF)', 'Rs. 9749Rs. 12999(25% OFF)', 'Rs. 7915Rs. 8795(10% OFF)', 'Rs. 6719Rs. 13999(52% OFF)', 'Rs. 8499Rs. 9999(15% OFF)', 'Rs. 7649Rs. 8999(15% OFF)', 'Rs. 11999Rs. 14999(20% OFF)', 'Rs. 6749Rs. 8999(25% OFF)', 'Rs. 7495', 'Rs. 9999', 'Rs. 7124Rs. 9499(25% OFF)', 'Rs. 10999', 'Rs. 7465Rs. 8295(10% OFF)', 'Rs. 8295', 'Rs. 8499Rs. 9999(15% OFF)', 'Rs. 7999', 'Rs. 12999', 'Rs. 9999', 'Rs. 7465Rs. 8295(10% OFF)', 'Rs. 9999', 'Rs. 9999', 'Rs. 10495', 'Rs. 8399Rs. 13999(40% OFF)', 'Rs. 11999', 'Rs. 6795', 'Rs. 9999', 'Rs. 6999', 'Rs. 10999', 'Rs. 8249Rs. 10999(25% OFF)', 'Rs. 6999', 'Rs. 7999Rs. 9999(20% OFF)', 'Rs. 8725Rs. 9695(10% OFF)', 'Rs. 11899Rs. 13999(15% OFF)', 'Rs. 7199Rs. 8999(20% OFF)', 'Rs. 12999', 'Rs. 6799Rs. 7999(15% OFF)', 'Rs. 11049Rs. 12999(15% OFF)', 'Rs. 10199Rs. 11999(15% OFF)', 'Rs. 9749Rs. 12999(25% OFF)', 'Rs. 7199Rs. 11999(40% OFF)', 'Rs. 12999', 'Rs. 7450']\n"
     ]
    }
   ],
   "source": [
    "print(Price)"
   ]
  },
  {
   "cell_type": "code",
   "execution_count": null,
   "id": "1fb59642",
   "metadata": {},
   "outputs": [],
   "source": []
  },
  {
   "cell_type": "code",
   "execution_count": null,
   "id": "09fb46b2",
   "metadata": {},
   "outputs": [],
   "source": []
  },
  {
   "cell_type": "markdown",
   "id": "fee1a348",
   "metadata": {},
   "source": [
    "Q8: Go to webpage https://www.amazon.in/\n",
    "Enter “Laptop” in the search field and then click the search icon.\n",
    "Then set CPU Type filter to “Intel Core i7” as shown in the below image:\n",
    "After setting the filters scrape first 10 laptops data. You have to scrape 3 attributesfor each laptop:\n",
    "1.Title\n",
    "2.Ratings\n",
    "3.Price\n"
   ]
  },
  {
   "cell_type": "code",
   "execution_count": 1299,
   "id": "e80b65af",
   "metadata": {},
   "outputs": [],
   "source": [
    "driver=webdriver.Chrome(r\"C:\\Users\\pranay\\Desktop\\chromedriver_win32 (1)\\chromedriver.exe\")"
   ]
  },
  {
   "cell_type": "code",
   "execution_count": 1300,
   "id": "d6b414ed",
   "metadata": {},
   "outputs": [],
   "source": [
    "driver.get('https://www.amazon.in/')"
   ]
  },
  {
   "cell_type": "code",
   "execution_count": 1301,
   "id": "22cc9dbb",
   "metadata": {},
   "outputs": [
    {
     "data": {
      "text/plain": [
       "<selenium.webdriver.remote.webelement.WebElement (session=\"a1690144d47af2174162a9f5202af356\", element=\"41b2e49e-5cee-4865-adc5-c77819e2e77e\")>"
      ]
     },
     "execution_count": 1301,
     "metadata": {},
     "output_type": "execute_result"
    }
   ],
   "source": [
    "# finding element for job search bar\n",
    "search_g= driver.find_element(By.XPATH,\"//input[@type='text']\")\n",
    "search_g"
   ]
  },
  {
   "cell_type": "code",
   "execution_count": 1304,
   "id": "9f2dae7d",
   "metadata": {},
   "outputs": [],
   "source": [
    "# write on search bar\n",
    "search_g.send_keys('Laptop')"
   ]
  },
  {
   "cell_type": "code",
   "execution_count": 1305,
   "id": "ca0cb605",
   "metadata": {},
   "outputs": [
    {
     "data": {
      "text/plain": [
       "<selenium.webdriver.remote.webelement.WebElement (session=\"a1690144d47af2174162a9f5202af356\", element=\"6cc994b5-4ad8-4e88-af16-1ab3ef10026c\")>"
      ]
     },
     "execution_count": 1305,
     "metadata": {},
     "output_type": "execute_result"
    }
   ],
   "source": [
    "search_btn=driver.find_element(By.XPATH,\"//input[@id='nav-search-submit-button']\")\n",
    "search_btn"
   ]
  },
  {
   "cell_type": "code",
   "execution_count": 1306,
   "id": "0c765d7f",
   "metadata": {},
   "outputs": [],
   "source": [
    "search_btn=driver.find_element(By.XPATH,\"//input[@id='nav-search-submit-button']\")\n",
    "search_btn.click()"
   ]
  },
  {
   "cell_type": "code",
   "execution_count": 1318,
   "id": "94aefe72",
   "metadata": {},
   "outputs": [],
   "source": [
    "filter_button=driver.find_elements(By.XPATH,\"//span[@class='a-size-base a-color-base puis-bold-weight-text']\")\n",
    "for i in filter_button:\n",
    "    if i.text==\"Intel Core i7\":\n",
    "        i.click()\n",
    "        break"
   ]
  },
  {
   "cell_type": "code",
   "execution_count": 1319,
   "id": "4f87b0d3",
   "metadata": {},
   "outputs": [],
   "source": [
    "Title=[]\n",
    "Price=[]\n",
    "Rating=[]"
   ]
  },
  {
   "cell_type": "code",
   "execution_count": 1320,
   "id": "6cef6f4f",
   "metadata": {},
   "outputs": [],
   "source": [
    "for i in range(3):\n",
    "    b_name=driver.find_elements(By.XPATH,\"//span[@class='a-size-base-plus a-color-base a-text-normal']\")\n",
    "    p_desc=driver.find_elements(By.XPATH,\"//i[@class='a-icon a-icon-star-small a-star-small-3-5 aok-align-bottom']\")\n",
    "    price =driver.find_elements(By.XPATH,\"//span[@class='a-price-whole']\")\n",
    "    \n",
    "    \n",
    "    for j  in b_name:\n",
    "        Title.append(j.text)\n",
    "    Title[:10]    \n",
    "    \n",
    "    \n",
    "    \n",
    "    for k in p_desc:\n",
    "        Rating.append(k.text)\n",
    "    Rating[:10] \n",
    "    \n",
    "    \n",
    "    for l in price:\n",
    "        Price.append(l.text)\n",
    "    Price[:10] "
   ]
  },
  {
   "cell_type": "code",
   "execution_count": 1321,
   "id": "be253356",
   "metadata": {},
   "outputs": [
    {
     "name": "stdout",
     "output_type": "stream",
     "text": [
      "10\n",
      "10\n",
      "9\n"
     ]
    },
    {
     "data": {
      "text/plain": [
       "(None, None, None)"
      ]
     },
     "execution_count": 1321,
     "metadata": {},
     "output_type": "execute_result"
    }
   ],
   "source": [
    "print(len(Title[:10])),print(len(Price[:10])),print(len(Rating[:10]))"
   ]
  },
  {
   "cell_type": "code",
   "execution_count": 1323,
   "id": "f87ad32f",
   "metadata": {},
   "outputs": [
    {
     "name": "stdout",
     "output_type": "stream",
     "text": [
      "['ASUS Vivobook 15, 15.6-inch (39.62 cms) FHD, Intel Core i7-1065G7 10th Gen, Thin and Light Laptop (16GB/512GB SSD/Iris Plus Graphics/Windows 11/Office 2021/Silver/1.8 kg), X515JA-EJ701WS', 'Lenovo Ideapad Gaming 3 Intel Core i7 10th Gen 15.6\"(39.62cm) FHD IPS Gaming Laptop (8GB/512GB SSD/4GB NVIDIA GTX 1650/120Hz/Windows 11/Backlit Keyboard/3months Game Pass/Onyx Black/2.2Kg), 81Y401BHIN', 'Acer Nitro 5 Core i7 11th Gen 15.6\" (39.62cms) Full HD IPS Gaming Laptop (16 GB/256GB SSD/1 TB HDD/Win 11/4 GB Graphics/NVIDIA GeForce RTX 3050 Ti/144 Hz, Black, 2.4 kg) AN515-57', 'Samsung Galaxy Book2 Intel 12th Gen core i7 39.6cm (15.6\") FHD LED Thin & Light Laptop (16 GB/512 GB SSD/Windows 11/MS Office/Backlit Keyboard/Fingerprint Reader/Silver/1.55Kg), NP750XED-KC2IN', 'HP Pavilion x360 11th Gen Intel Core i7 14 inch(35.6 cm) FHD,IPS, Multitouch 2-in-1 Laptop(16GB RAM/512GB SSD/Backlit KB/Intel Iris Xe Graphics/Pen/Alexa Built-in/MSO/1.52Kg) 14-dy1050TU, Spruce Blue', 'ASUS TUF Gaming F17 (2022), 17.3-inch (43.94 cms) FHD 144Hz, Intel Core i7-12700H 12th Gen, RTX 3060 6GB Graphics, Gaming Laptop (16GB/1TB SSD/Windows 11/Office 2021/Gray/2.6 Kg), FX707ZM-HX030WS', 'Lenovo IdeaPad Slim 5 Intel Core i7 12th Gen 15.6\" (39.62cm) FHD IPS Thin & Light Laptop (16GB/512GB SSD/Windows 11/Office 2021/Backlit/FPR/3months Game Pass/Storm Grey/1.85Kg), 82SF008WIN', 'ASUS Vivobook S15 OLED (2022), 15.6\" (39.62 cms) FHD OLED, Intel Core Evo i7-12700H 12th Gen, Thin and Light Laptop (16GB/512GB SSD/Iris Xe Graphics/Windows 11/Office 2021/Grey/1.8 kg), K3502ZA-L701WS', 'Hp Pavilion X360 11Th Gen Intel Core I7 14 Inches Fhd Multitouch 2In1 Laptop (16Gb Ram/512Gb Ssd/B&O/Windows 11 Home/Fpr/Backlit Kb/Intel Iris Xe Graphics/Pen/Alexa/Ms Office/Silver/1.52Kg)14-Dy1047Tu', 'Lenovo ThinkPad E14 Intel Core i7 11th Gen 14-inch (35.56cm) FHD TN Antiglare Thin and Light Laptop (16GB RAM/512GB SSD/Windows 11 Home/Microsoft Office H&S 2021/FPR/Black/1.59 kg), 20TAS1B400']\n"
     ]
    }
   ],
   "source": [
    "print(Title[:10])"
   ]
  },
  {
   "cell_type": "code",
   "execution_count": 1324,
   "id": "f6dc86f5",
   "metadata": {},
   "outputs": [
    {
     "name": "stdout",
     "output_type": "stream",
     "text": [
      "['56,585', '62,990', '94,999', '79,490', '81,990', '1,32,990', '81,990', '94,990', '82,250', '94,990']\n"
     ]
    }
   ],
   "source": [
    "print(Price[:10])"
   ]
  },
  {
   "cell_type": "code",
   "execution_count": 1326,
   "id": "bb93a3cc",
   "metadata": {},
   "outputs": [
    {
     "name": "stdout",
     "output_type": "stream",
     "text": [
      "['', '', '', '', '', '', '', '', '']\n"
     ]
    }
   ],
   "source": [
    "print(Rating[:10])"
   ]
  },
  {
   "cell_type": "code",
   "execution_count": null,
   "id": "47e5ed7c",
   "metadata": {},
   "outputs": [],
   "source": []
  },
  {
   "cell_type": "markdown",
   "id": "d316637e",
   "metadata": {},
   "source": [
    "Q9: Write a python program to scrape data for first 10 job results for Data Scientist Designation in Noida location. You have to scrape company name, No. of days ago when job was posted, Rating of the company. This task will be done in following steps:\n",
    "1.First get the webpage https://www.ambitionbox.com/\n",
    "2.Click on the Job option as shown in the image\n",
    "3.After reaching to the next webpage, In place of “Search by Designations, Companies, Skills” enter\n",
    "“Data Scientist” and click on search button.\n",
    "4.You will reach to the following web page click on location and in place of “Search location” enter\n",
    "“Noida” and select location “Noida”.\n",
    "5.Then scrape the data for the first 10 jobs results you get on the above shown page.\n",
    "6.Finally create a dataframe of the scraped data.\n",
    "Note: All the steps required during scraping should be done through code only and not manually.\n"
   ]
  },
  {
   "cell_type": "code",
   "execution_count": null,
   "id": "452b06f7",
   "metadata": {},
   "outputs": [],
   "source": []
  },
  {
   "cell_type": "code",
   "execution_count": 479,
   "id": "fb854c16",
   "metadata": {},
   "outputs": [],
   "source": [
    "import requests"
   ]
  },
  {
   "cell_type": "code",
   "execution_count": 480,
   "id": "7bd21884",
   "metadata": {},
   "outputs": [
    {
     "data": {
      "text/plain": [
       "<Response [200]>"
      ]
     },
     "execution_count": 480,
     "metadata": {},
     "output_type": "execute_result"
    }
   ],
   "source": [
    "page=requests.get(\"https://www.ambitionbox.com/\")\n",
    "page"
   ]
  },
  {
   "cell_type": "code",
   "execution_count": 777,
   "id": "1fbc5ea1",
   "metadata": {},
   "outputs": [],
   "source": [
    "driver=webdriver.Chrome(r\"C:\\Users\\pranay\\Desktop\\chromedriver_win32 (1)\\chromedriver.exe\")"
   ]
  },
  {
   "cell_type": "code",
   "execution_count": 778,
   "id": "71c56fe3",
   "metadata": {},
   "outputs": [],
   "source": [
    "driver.get(\"https://www.ambitionbox.com/\")"
   ]
  },
  {
   "cell_type": "code",
   "execution_count": 779,
   "id": "9e69e4ef",
   "metadata": {},
   "outputs": [],
   "source": [
    "job=driver.find_element(By.XPATH,'/html/body/div[1]/nav[2]/div/ul/li[5]/a')\n",
    "job.click()"
   ]
  },
  {
   "cell_type": "code",
   "execution_count": 812,
   "id": "1ec040f1",
   "metadata": {},
   "outputs": [],
   "source": [
    "designation=driver.find_element(By.XPATH,'/html/body/div/div/div/div[2]/div[1]/div[1]/div/div/div/div/span/input')"
   ]
  },
  {
   "cell_type": "code",
   "execution_count": 782,
   "id": "edf176f2",
   "metadata": {},
   "outputs": [],
   "source": [
    "designation.send_keys('Data Scientist')"
   ]
  },
  {
   "cell_type": "code",
   "execution_count": 785,
   "id": "87de9e07",
   "metadata": {},
   "outputs": [],
   "source": [
    "search_job=driver.find_element(By.XPATH,'/html/body/div/div/div/div[2]/div[1]/div[1]/div/div/div/button')\n",
    "search_job.click()"
   ]
  },
  {
   "cell_type": "code",
   "execution_count": 786,
   "id": "02d91847",
   "metadata": {},
   "outputs": [],
   "source": [
    "filter_location=driver.find_element(By.XPATH,'/html/body/div/div/div/div[2]/div[1]/div[2]/div[1]/div/div/div/div[2]/div[1]/p')"
   ]
  },
  {
   "cell_type": "code",
   "execution_count": 787,
   "id": "9f58b28c",
   "metadata": {},
   "outputs": [],
   "source": [
    "filter_location.click()"
   ]
  },
  {
   "cell_type": "code",
   "execution_count": 789,
   "id": "c4733f6f",
   "metadata": {},
   "outputs": [],
   "source": [
    "search_location=driver.find_element(By.XPATH,'//html/body/div/div/div/div[2]/div[1]/div[2]/div[1]/div/div/div/div[2]/div[2]/div/div[2]/input')\n",
    "search_location.click()"
   ]
  },
  {
   "cell_type": "code",
   "execution_count": 790,
   "id": "9dc3e2f0",
   "metadata": {},
   "outputs": [],
   "source": [
    "search_location.send_keys('Noida')"
   ]
  },
  {
   "cell_type": "code",
   "execution_count": 791,
   "id": "42d4bb7e",
   "metadata": {},
   "outputs": [],
   "source": [
    "search_location.click()"
   ]
  },
  {
   "cell_type": "code",
   "execution_count": 793,
   "id": "5e04f8f6",
   "metadata": {},
   "outputs": [],
   "source": [
    "filter_location=driver.find_elements(By.XPATH,'//label[@class=\"radio-label\"]')\n",
    "for i in filter_location:\n",
    "    if i.text==\"Noida\":\n",
    "        i.click()\n",
    "        break"
   ]
  },
  {
   "cell_type": "code",
   "execution_count": 804,
   "id": "a6b54a81",
   "metadata": {},
   "outputs": [],
   "source": [
    "job_title=[]\n",
    "job_location=[]\n",
    "company_name=[]\n",
    "experience_required=[]"
   ]
  },
  {
   "cell_type": "code",
   "execution_count": 805,
   "id": "cf4e4aef",
   "metadata": {},
   "outputs": [],
   "source": [
    "title_tags=driver.find_elements(By.XPATH,\"//a[@class='title noclick']\")\n",
    "for i in title_tags[0:10]:\n",
    "    title=i.text\n",
    "    job_title.append(title)\n",
    "location_tags=driver.find_elements(By.XPATH,\"//div[@class='entity loc']\")\n",
    "for i in location_tags[0:10]:\n",
    "    location=i.text\n",
    "    job_location.append(location)\n",
    "company_tags=driver.find_elements(By.XPATH,\"//p[@class='company body-medium']\")\n",
    "for i in company_tags[0:10]:\n",
    "    company=i.text\n",
    "    company_name.append(company)\n",
    "experience_tags=driver.find_elements(By.XPATH,\"//p[@class='body-small-l']\")\n",
    "for i in experience_tags[0:10]:\n",
    "    exp=i.text\n",
    "    experience_required.append(exp)"
   ]
  },
  {
   "cell_type": "code",
   "execution_count": 806,
   "id": "c888d63a",
   "metadata": {},
   "outputs": [
    {
     "name": "stdout",
     "output_type": "stream",
     "text": [
      "10 10 10 10\n"
     ]
    }
   ],
   "source": [
    "print(len(job_title),len(job_location),len(company_name),len(experience_required))"
   ]
  },
  {
   "cell_type": "code",
   "execution_count": 807,
   "id": "0185381c",
   "metadata": {},
   "outputs": [
    {
     "name": "stdout",
     "output_type": "stream",
     "text": [
      "['Hyderabad/Secunderabad, Gurgaon/Gurugram, Noida', 'Hyderabad/Secunderabad, Gurgaon/Gurugram, Noida', 'Noida', 'Noida', 'Noida', 'Ghaziabad, Gurgaon/Gurugram, Noida', 'Noida', 'Noida', 'Noida', 'Chennai, Bengaluru/Bangalore, Noida']\n"
     ]
    }
   ],
   "source": [
    "print(job_location)"
   ]
  },
  {
   "cell_type": "code",
   "execution_count": 808,
   "id": "48cb16e9",
   "metadata": {},
   "outputs": [
    {
     "name": "stdout",
     "output_type": "stream",
     "text": [
      "['Hiring Data Scientist #productbasecompany #CBRE', 'Hiring For Genpact-Data Scientist- Forecasting-Immediate Joiners only', 'Genpact - Data Scientist - Forecasting/Python/R (6-10 yrs)', 'Data Scientist', 'Data Scientist', 'Data Scientist', 'Associate Manager - Data Scientist', 'Data Scientist', 'Data Scientist', 'Data Scientist - Noida/Bangalore']\n"
     ]
    }
   ],
   "source": [
    "print(job_title)"
   ]
  },
  {
   "cell_type": "code",
   "execution_count": 809,
   "id": "5a6ec03d",
   "metadata": {},
   "outputs": [
    {
     "name": "stdout",
     "output_type": "stream",
     "text": [
      "['CBRE South Asia Pvt Ltd', 'GENPACT India Private Limited', 'Genpact', 'Ericsson India Global Services Pvt. Ltd.', 'GENPACT India Private Limited', 'Optum Global Solutions (India) Private Limited', 'Optum Global Solutions (India) Private Limited', 'Ericsson India Global Services Pvt. Ltd.', 'SOPRA STERIA INDIA LIMITED', 'EXL Services.com ( I ) Pvt. Ltd.']\n"
     ]
    }
   ],
   "source": [
    "print(company_name)"
   ]
  },
  {
   "cell_type": "code",
   "execution_count": 810,
   "id": "737e02a0",
   "metadata": {},
   "outputs": [
    {
     "name": "stdout",
     "output_type": "stream",
     "text": [
      "['5-9 years', '₹ 10-20 LPA', 'Hyderabad/Secunderabad, Gurgaon/Gurugram, Noida', '5-9 Yrs', '₹ 10-20 LPA', 'Hyderabad/Secunderabad, Gurgaon/Gurugram, Noida', 'python, data science, advanced excel +1 more', '7-12 Yrs', 'Not Disclosed', 'Noida']\n"
     ]
    }
   ],
   "source": [
    "print(experience_required)"
   ]
  },
  {
   "cell_type": "code",
   "execution_count": 813,
   "id": "27e85140",
   "metadata": {},
   "outputs": [
    {
     "data": {
      "text/html": [
       "<div>\n",
       "<style scoped>\n",
       "    .dataframe tbody tr th:only-of-type {\n",
       "        vertical-align: middle;\n",
       "    }\n",
       "\n",
       "    .dataframe tbody tr th {\n",
       "        vertical-align: top;\n",
       "    }\n",
       "\n",
       "    .dataframe thead th {\n",
       "        text-align: right;\n",
       "    }\n",
       "</style>\n",
       "<table border=\"1\" class=\"dataframe\">\n",
       "  <thead>\n",
       "    <tr style=\"text-align: right;\">\n",
       "      <th></th>\n",
       "      <th>job_title</th>\n",
       "      <th>job_location</th>\n",
       "      <th>company_name</th>\n",
       "      <th>experience_required</th>\n",
       "    </tr>\n",
       "  </thead>\n",
       "  <tbody>\n",
       "    <tr>\n",
       "      <th>0</th>\n",
       "      <td>Hiring Data Scientist #productbasecompany #CBRE</td>\n",
       "      <td>Hyderabad/Secunderabad, Gurgaon/Gurugram, Noida</td>\n",
       "      <td>CBRE South Asia Pvt Ltd</td>\n",
       "      <td>5-9 years</td>\n",
       "    </tr>\n",
       "    <tr>\n",
       "      <th>1</th>\n",
       "      <td>Hiring For Genpact-Data Scientist- Forecasting...</td>\n",
       "      <td>Hyderabad/Secunderabad, Gurgaon/Gurugram, Noida</td>\n",
       "      <td>GENPACT India Private Limited</td>\n",
       "      <td>₹ 10-20 LPA</td>\n",
       "    </tr>\n",
       "    <tr>\n",
       "      <th>2</th>\n",
       "      <td>Genpact - Data Scientist - Forecasting/Python/...</td>\n",
       "      <td>Noida</td>\n",
       "      <td>Genpact</td>\n",
       "      <td>Hyderabad/Secunderabad, Gurgaon/Gurugram, Noida</td>\n",
       "    </tr>\n",
       "    <tr>\n",
       "      <th>3</th>\n",
       "      <td>Data Scientist</td>\n",
       "      <td>Noida</td>\n",
       "      <td>Ericsson India Global Services Pvt. Ltd.</td>\n",
       "      <td>5-9 Yrs</td>\n",
       "    </tr>\n",
       "    <tr>\n",
       "      <th>4</th>\n",
       "      <td>Data Scientist</td>\n",
       "      <td>Noida</td>\n",
       "      <td>GENPACT India Private Limited</td>\n",
       "      <td>₹ 10-20 LPA</td>\n",
       "    </tr>\n",
       "    <tr>\n",
       "      <th>5</th>\n",
       "      <td>Data Scientist</td>\n",
       "      <td>Ghaziabad, Gurgaon/Gurugram, Noida</td>\n",
       "      <td>Optum Global Solutions (India) Private Limited</td>\n",
       "      <td>Hyderabad/Secunderabad, Gurgaon/Gurugram, Noida</td>\n",
       "    </tr>\n",
       "    <tr>\n",
       "      <th>6</th>\n",
       "      <td>Associate Manager - Data Scientist</td>\n",
       "      <td>Noida</td>\n",
       "      <td>Optum Global Solutions (India) Private Limited</td>\n",
       "      <td>python, data science, advanced excel +1 more</td>\n",
       "    </tr>\n",
       "    <tr>\n",
       "      <th>7</th>\n",
       "      <td>Data Scientist</td>\n",
       "      <td>Noida</td>\n",
       "      <td>Ericsson India Global Services Pvt. Ltd.</td>\n",
       "      <td>7-12 Yrs</td>\n",
       "    </tr>\n",
       "    <tr>\n",
       "      <th>8</th>\n",
       "      <td>Data Scientist</td>\n",
       "      <td>Noida</td>\n",
       "      <td>SOPRA STERIA INDIA LIMITED</td>\n",
       "      <td>Not Disclosed</td>\n",
       "    </tr>\n",
       "    <tr>\n",
       "      <th>9</th>\n",
       "      <td>Data Scientist - Noida/Bangalore</td>\n",
       "      <td>Chennai, Bengaluru/Bangalore, Noida</td>\n",
       "      <td>EXL Services.com ( I ) Pvt. Ltd.</td>\n",
       "      <td>Noida</td>\n",
       "    </tr>\n",
       "  </tbody>\n",
       "</table>\n",
       "</div>"
      ],
      "text/plain": [
       "                                           job_title  \\\n",
       "0    Hiring Data Scientist #productbasecompany #CBRE   \n",
       "1  Hiring For Genpact-Data Scientist- Forecasting...   \n",
       "2  Genpact - Data Scientist - Forecasting/Python/...   \n",
       "3                                     Data Scientist   \n",
       "4                                     Data Scientist   \n",
       "5                                     Data Scientist   \n",
       "6                 Associate Manager - Data Scientist   \n",
       "7                                     Data Scientist   \n",
       "8                                     Data Scientist   \n",
       "9                   Data Scientist - Noida/Bangalore   \n",
       "\n",
       "                                      job_location  \\\n",
       "0  Hyderabad/Secunderabad, Gurgaon/Gurugram, Noida   \n",
       "1  Hyderabad/Secunderabad, Gurgaon/Gurugram, Noida   \n",
       "2                                            Noida   \n",
       "3                                            Noida   \n",
       "4                                            Noida   \n",
       "5               Ghaziabad, Gurgaon/Gurugram, Noida   \n",
       "6                                            Noida   \n",
       "7                                            Noida   \n",
       "8                                            Noida   \n",
       "9              Chennai, Bengaluru/Bangalore, Noida   \n",
       "\n",
       "                                     company_name  \\\n",
       "0                         CBRE South Asia Pvt Ltd   \n",
       "1                   GENPACT India Private Limited   \n",
       "2                                         Genpact   \n",
       "3        Ericsson India Global Services Pvt. Ltd.   \n",
       "4                   GENPACT India Private Limited   \n",
       "5  Optum Global Solutions (India) Private Limited   \n",
       "6  Optum Global Solutions (India) Private Limited   \n",
       "7        Ericsson India Global Services Pvt. Ltd.   \n",
       "8                      SOPRA STERIA INDIA LIMITED   \n",
       "9                EXL Services.com ( I ) Pvt. Ltd.   \n",
       "\n",
       "                               experience_required  \n",
       "0                                        5-9 years  \n",
       "1                                      ₹ 10-20 LPA  \n",
       "2  Hyderabad/Secunderabad, Gurgaon/Gurugram, Noida  \n",
       "3                                          5-9 Yrs  \n",
       "4                                      ₹ 10-20 LPA  \n",
       "5  Hyderabad/Secunderabad, Gurgaon/Gurugram, Noida  \n",
       "6     python, data science, advanced excel +1 more  \n",
       "7                                         7-12 Yrs  \n",
       "8                                    Not Disclosed  \n",
       "9                                            Noida  "
      ]
     },
     "execution_count": 813,
     "metadata": {},
     "output_type": "execute_result"
    }
   ],
   "source": [
    "df=pd.DataFrame({'job_title':job_title, 'job_location':job_location,'company_name':company_name,'experience_required':experience_required})\n",
    "df"
   ]
  },
  {
   "cell_type": "code",
   "execution_count": null,
   "id": "4ef23c9f",
   "metadata": {},
   "outputs": [],
   "source": []
  },
  {
   "cell_type": "markdown",
   "id": "750d115e",
   "metadata": {},
   "source": [
    " 10. Write a python program to scrape the salary data for Data Scientist designation.\n",
    "You have to scrape Company name, Number of salaries, Average salary, Minsalary, Max Salary. The above task will be, done as shown in the below steps:\n",
    "1.First get the webpage https://www.ambitionbox.com/\n",
    "2.Click on the salaries option as shown in the image.\n",
    "3.After reaching to the following webpage, In place of “Search Job Profile” enters “Data Scientist” and then click on “Data Scientist”.\n",
    "You have to scrape the data ticked in the above image.\n",
    "4.Scrape the data for the first 10 companies. Scrape the company name, total salary record, average salary, minimum salary, maximum salary, experience required.\n",
    "5.Store the data in a dataframe.\n",
    "Note: All the steps required during scraping should be done through code only and not manually.\n"
   ]
  },
  {
   "cell_type": "code",
   "execution_count": null,
   "id": "0b0296c3",
   "metadata": {},
   "outputs": [],
   "source": []
  },
  {
   "cell_type": "code",
   "execution_count": 1328,
   "id": "971e5769",
   "metadata": {},
   "outputs": [],
   "source": [
    "driver=webdriver.Chrome(r\"C:\\Users\\pranay\\Desktop\\chromedriver_win32 (1)\\chromedriver.exe\")"
   ]
  },
  {
   "cell_type": "code",
   "execution_count": 1329,
   "id": "0a16c36e",
   "metadata": {},
   "outputs": [],
   "source": [
    "driver.get(\"https://www.ambitionbox.com/\")"
   ]
  },
  {
   "cell_type": "code",
   "execution_count": 1330,
   "id": "cf2c1068",
   "metadata": {},
   "outputs": [],
   "source": [
    "salaries=driver.find_element(By.XPATH,'/html/body/div[1]/nav[2]/div/ul/li[3]/a')\n"
   ]
  },
  {
   "cell_type": "code",
   "execution_count": 1331,
   "id": "64cf5d40",
   "metadata": {},
   "outputs": [],
   "source": [
    "salaries.click()"
   ]
  },
  {
   "cell_type": "code",
   "execution_count": 1332,
   "id": "7c819cf0",
   "metadata": {},
   "outputs": [],
   "source": [
    "browse_salaries=driver.find_element(By.XPATH,'/html/body/div[1]/nav[2]/div/ul/li[3]/div/ul/li[1]/div/div[1]/img')\n"
   ]
  },
  {
   "cell_type": "code",
   "execution_count": 1333,
   "id": "32b3cb48",
   "metadata": {},
   "outputs": [],
   "source": [
    "salaries=driver.find_elements(By.XPATH,'//a[@class=\"subNavListItem\"]')\n",
    "for i in salaries :\n",
    "    if i.text==\"Browse salaries\":\n",
    "        i.click()\n",
    "        break"
   ]
  },
  {
   "cell_type": "code",
   "execution_count": 1334,
   "id": "7e1480b9",
   "metadata": {},
   "outputs": [],
   "source": [
    "designation=driver.find_element(By.XPATH,'/html/body/div/div/div/main/section[1]/div[2]/div[1]/span/input')"
   ]
  },
  {
   "cell_type": "code",
   "execution_count": 1335,
   "id": "49fdcdae",
   "metadata": {},
   "outputs": [],
   "source": [
    "designation.send_keys('Data Scientist')"
   ]
  },
  {
   "cell_type": "code",
   "execution_count": 1336,
   "id": "5a59553e",
   "metadata": {},
   "outputs": [],
   "source": [
    "search_job=driver.find_element(By.XPATH,'//i[@class=\"icon-search\"]')\n",
    "search_job.click()"
   ]
  },
  {
   "cell_type": "code",
   "execution_count": 1337,
   "id": "664db619",
   "metadata": {},
   "outputs": [],
   "source": [
    "search_job=driver.find_element(By.CLASS_NAME,'icon-search')\n",
    "search_job.click()"
   ]
  },
  {
   "cell_type": "code",
   "execution_count": 1338,
   "id": "7b838e03",
   "metadata": {},
   "outputs": [],
   "source": [
    "company_name=[]\n",
    "salary_records=[]\n",
    "min_salary=[]\n",
    "avg_salary=[]\n",
    "max_salary=[]\n",
    "experience_required=[]"
   ]
  },
  {
   "cell_type": "code",
   "execution_count": 1339,
   "id": "ced937f3",
   "metadata": {},
   "outputs": [],
   "source": [
    "company_tags=driver.find_elements(By.XPATH,\"//p[@class='company body-medium']\")\n",
    "for i in company_tags[0:10]:\n",
    "    company=i.text\n",
    "    company_name.append(company)\n",
    "record_tags=driver.find_elements(By.XPATH,\"//span[@class='datapoints']\")\n",
    "for i in record_tags[0:10]:\n",
    "    record=i.text\n",
    "    salary_records.append(record)\n",
    "min_tags=driver.find_elements(By.XPATH,\"//div[@class='value body-medium']\")\n",
    "for i in min_tags[0:10]:\n",
    "    min=i.text\n",
    "    min_salary.append(min)\n",
    "max_tags=driver.find_elements(By.XPATH,\"//div[@class='value body-medium']\")\n",
    "for i in max_tags[0:10]:\n",
    "    max=i.text\n",
    "    max_salary.append(max)\n",
    "avg_tags=driver.find_elements(By.XPATH,\"//p[@class='averageCtc']\")\n",
    "for i in avg_tags[0:10]:\n",
    "    avg=i.text\n",
    "    avg_salary.append(avg)\n",
    "experience_tags=driver.find_elements(By.XPATH,\"//div[@class='sbold-list-header']\")                          \n",
    "for i in experience_tags[0:10]:\n",
    "    exp=i.text\n",
    "    experience_required.append(exp)    "
   ]
  },
  {
   "cell_type": "code",
   "execution_count": 1340,
   "id": "a6a22d2a",
   "metadata": {},
   "outputs": [
    {
     "name": "stdout",
     "output_type": "stream",
     "text": [
      "0 10 10 10 10 10\n"
     ]
    }
   ],
   "source": [
    "print(len(company_name),len(salary_records),len(min_salary),len(avg_salary),len(max_salary),len(experience_required))"
   ]
  },
  {
   "cell_type": "code",
   "execution_count": 1341,
   "id": "4829d5ea",
   "metadata": {},
   "outputs": [
    {
     "name": "stdout",
     "output_type": "stream",
     "text": [
      "[]\n"
     ]
    }
   ],
   "source": [
    "print(company_name)"
   ]
  },
  {
   "cell_type": "code",
   "execution_count": 1342,
   "id": "e74a89c8",
   "metadata": {},
   "outputs": [
    {
     "name": "stdout",
     "output_type": "stream",
     "text": [
      "['(based on 51 salaries)', '(based on 334 salaries)', '(based on 36 salaries)', '(based on 133 salaries)', '(based on 71 salaries)', '(based on 41 salaries)', '(based on 105 salaries)', '(based on 29 salaries)', '(based on 56 salaries)', '(based on 68 salaries)']\n"
     ]
    }
   ],
   "source": [
    "print(salary_records)"
   ]
  },
  {
   "cell_type": "code",
   "execution_count": 1343,
   "id": "4be22825",
   "metadata": {},
   "outputs": [
    {
     "name": "stdout",
     "output_type": "stream",
     "text": [
      "['₹ 11.7L', '₹ 97.0L', '₹ 13.0L', '₹ 50.0L', '₹ 12.0L', '₹ 34.0L', '₹ 8.7L', '₹ 45.0L', '₹ 14.0L', '₹ 30.0L']\n"
     ]
    }
   ],
   "source": [
    "print(min_salary)"
   ]
  },
  {
   "cell_type": "code",
   "execution_count": 1344,
   "id": "7d089297",
   "metadata": {},
   "outputs": [
    {
     "name": "stdout",
     "output_type": "stream",
     "text": [
      "['₹ 11.7L', '₹ 97.0L', '₹ 13.0L', '₹ 50.0L', '₹ 12.0L', '₹ 34.0L', '₹ 8.7L', '₹ 45.0L', '₹ 14.0L', '₹ 30.0L']\n"
     ]
    }
   ],
   "source": [
    "print(max_salary)"
   ]
  },
  {
   "cell_type": "code",
   "execution_count": 1345,
   "id": "fe17975f",
   "metadata": {},
   "outputs": [
    {
     "name": "stdout",
     "output_type": "stream",
     "text": [
      "['₹ 34.0L', '₹ 23.6L', '₹ 22.9L', '₹ 21.2L', '₹ 20.7L', '₹ 20.6L', '₹ 20.1L', '₹ 19.6L', '₹ 19.4L', '₹ 19.3L']\n"
     ]
    }
   ],
   "source": [
    "print(avg_salary)"
   ]
  },
  {
   "cell_type": "code",
   "execution_count": 1346,
   "id": "ceee209c",
   "metadata": {},
   "outputs": [
    {
     "name": "stdout",
     "output_type": "stream",
     "text": [
      "['1-4 yrs experience (based on 51 salaries)', '1-4 yrs experience (based on 334 salaries)', '1-2 yrs experience (based on 36 salaries)', '1-4 yrs experience (based on 133 salaries)', '2-4 yrs experience (based on 71 salaries)', '2-4 yrs experience (based on 41 salaries)', '1-4 yrs experience (based on 105 salaries)', '1-2 yrs experience (based on 29 salaries)', '1-4 yrs experience (based on 56 salaries)', '1-2 yrs experience (based on 68 salaries)']\n"
     ]
    }
   ],
   "source": [
    "print(experience_required)"
   ]
  },
  {
   "cell_type": "code",
   "execution_count": null,
   "id": "d996f4e4",
   "metadata": {},
   "outputs": [],
   "source": []
  },
  {
   "cell_type": "code",
   "execution_count": null,
   "id": "13856957",
   "metadata": {},
   "outputs": [],
   "source": [
    "df=pd.DataFrame({'company_name':company_name, 'salary_records':salary_records,'min_salary':min_salary,'avg_salary':avg_salary,'max_salary':max_salary,'experience_required':experience_required})\n",
    "df"
   ]
  },
  {
   "cell_type": "code",
   "execution_count": null,
   "id": "8e10fed4",
   "metadata": {},
   "outputs": [],
   "source": []
  },
  {
   "cell_type": "code",
   "execution_count": null,
   "id": "49370254",
   "metadata": {},
   "outputs": [],
   "source": []
  },
  {
   "cell_type": "code",
   "execution_count": null,
   "id": "3667cab9",
   "metadata": {},
   "outputs": [],
   "source": []
  }
 ],
 "metadata": {
  "hide_input": false,
  "kernelspec": {
   "display_name": "Python 3 (ipykernel)",
   "language": "python",
   "name": "python3"
  },
  "language_info": {
   "codemirror_mode": {
    "name": "ipython",
    "version": 3
   },
   "file_extension": ".py",
   "mimetype": "text/x-python",
   "name": "python",
   "nbconvert_exporter": "python",
   "pygments_lexer": "ipython3",
   "version": "3.9.7"
  },
  "latex_envs": {
   "LaTeX_envs_menu_present": true,
   "autoclose": false,
   "autocomplete": true,
   "bibliofile": "biblio.bib",
   "cite_by": "apalike",
   "current_citInitial": 1,
   "eqLabelWithNumbers": true,
   "eqNumInitial": 1,
   "hotkeys": {
    "equation": "Ctrl-E",
    "itemize": "Ctrl-I"
   },
   "labels_anchors": false,
   "latex_user_defs": false,
   "report_style_numbering": false,
   "user_envs_cfg": false
  },
  "varInspector": {
   "cols": {
    "lenName": 16,
    "lenType": 16,
    "lenVar": 40
   },
   "kernels_config": {
    "python": {
     "delete_cmd_postfix": "",
     "delete_cmd_prefix": "del ",
     "library": "var_list.py",
     "varRefreshCmd": "print(var_dic_list())"
    },
    "r": {
     "delete_cmd_postfix": ") ",
     "delete_cmd_prefix": "rm(",
     "library": "var_list.r",
     "varRefreshCmd": "cat(var_dic_list()) "
    }
   },
   "types_to_exclude": [
    "module",
    "function",
    "builtin_function_or_method",
    "instance",
    "_Feature"
   ],
   "window_display": false
  }
 },
 "nbformat": 4,
 "nbformat_minor": 5
}
