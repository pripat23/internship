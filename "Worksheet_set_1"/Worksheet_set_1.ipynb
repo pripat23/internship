{
 "cells": [
  {
   "cell_type": "code",
   "execution_count": null,
   "id": "0a92613b",
   "metadata": {},
   "outputs": [],
   "source": []
  },
  {
   "cell_type": "code",
   "execution_count": null,
   "id": "e1e2efda",
   "metadata": {},
   "outputs": [],
   "source": []
  },
  {
   "cell_type": "code",
   "execution_count": 8,
   "id": "5e13b8ac",
   "metadata": {},
   "outputs": [
    {
     "name": "stdout",
     "output_type": "stream",
     "text": [
      "Enter the no = -2\n",
      "The number is negative\n",
      "The factorial of a given number :  None\n"
     ]
    }
   ],
   "source": [
    " #11.Write a python program to find the factorial of a number.\n",
    "\n",
    "\n",
    "def factorial(n):\n",
    "    if n<0 and n%1==0:\n",
    "        print(\"The number is negative\")\n",
    "    elif n==0:\n",
    "        return 1\n",
    "    else:\n",
    "        return n*factorial(n-1)\n",
    "  \n",
    "n=int(input(\"Enter the no = \"))\n",
    "print(\"The factorial of a given number : \", factorial(n))   "
   ]
  },
  {
   "cell_type": "code",
   "execution_count": 6,
   "id": "de49b66b",
   "metadata": {},
   "outputs": [
    {
     "name": "stdout",
     "output_type": "stream",
     "text": [
      "Enter a number:  42\n",
      "42 is not a prime number.\n",
      "2 times 21 is 42\n"
     ]
    }
   ],
   "source": [
    "#12.Write a python program to find whether a number is prime or composite.\n",
    "\n",
    "#Taking user input\n",
    "\n",
    "inputn=int(input('Enter a number:  '))\n",
    "if inputn > 1:\n",
    "    for i in range(2,inputn):\n",
    "        if (inputn % i)== 0:\n",
    "            print(inputn,\"is not a prime number.\")\n",
    "            print(i,\"times\",inputn//i,\"is\",inputn)\n",
    "            break\n",
    "    else:\n",
    "        print(inputn,\"is a prime number.\")\n",
    "       \n",
    "else:\n",
    "    print(inputn,\"is not a prime number.\")"
   ]
  },
  {
   "cell_type": "code",
   "execution_count": 4,
   "id": "5a94eab3",
   "metadata": {},
   "outputs": [
    {
     "name": "stdout",
     "output_type": "stream",
     "text": [
      "casefold =  racecar\n",
      "reversed =  racecar\n",
      "The string is a palindrome.\n"
     ]
    }
   ],
   "source": [
    "#13.Write a python program to check whether a given string is palindrome or not.\n",
    "\n",
    "str1 = 'RaCEcAr'\n",
    "\n",
    "# make it suitable to read using casfold\n",
    "str1 = str1.casefold()\n",
    "print(\"casefold = \",str1)\n",
    "\n",
    "# reverse the string\n",
    "rev_str = reversed(str1)\n",
    "print(\"reversed = \",str1)\n",
    "\n",
    "# compare both the strings to find whether its palindrome or not\n",
    "if list(str1) == list(rev_str):\n",
    "    print(\"The string is a palindrome.\")\n",
    "else:\n",
    "    print(\"The string is not a palindrome.\")"
   ]
  },
  {
   "cell_type": "code",
   "execution_count": 3,
   "id": "709c9e7f",
   "metadata": {},
   "outputs": [
    {
     "name": "stdout",
     "output_type": "stream",
     "text": [
      "Enter base: 3\n",
      "Enter height: 4\n",
      "Hypotenuse = 5.0\n"
     ]
    }
   ],
   "source": [
    "# 14 Write a Python program to get the third side of right-angled triangle from two given sides.\n",
    "#base of rightangled triangle\n",
    "a = float(input(\"Enter base: \"))\n",
    "#perpendicular/ Height of rightangled triangle\n",
    "b = float(input(\"Enter height: \"))\n",
    "\n",
    "# using pythagoras formula calculate hypotenuse c\n",
    "c = ((a ** 2 + b ** 2))**.5\n",
    "\n",
    "print(\"Hypotenuse =\", round(c,2))"
   ]
  },
  {
   "cell_type": "code",
   "execution_count": 2,
   "id": "d461efcf",
   "metadata": {},
   "outputs": [
    {
     "name": "stdout",
     "output_type": "stream",
     "text": [
      "{'L': 2, 'I': 3, 'F': 2, 'E': 2, ' ': 2, 'S': 1, 'B': 1, 'A': 1, 'U': 2, 'T': 1}\n"
     ]
    }
   ],
   "source": [
    "#15.Write a python program to print the frequency of each of the characters present in a given string.\n",
    "\n",
    "str = \"LIFE IS BEAUTIFUL\"\n",
    "\n",
    "# create dictionary to store key value pair\n",
    "dict = {}\n",
    "\n",
    "for i in str:\n",
    "    # if i already appears as key in dict, increment the count\n",
    "    if i in dict:\n",
    "        dict[i] += 1\n",
    "\n",
    "    # else i appears for the first time, add to dict\n",
    "    else:\n",
    "        dict[i] = 1\n",
    "\n",
    "# printing result \n",
    "print(dict)"
   ]
  },
  {
   "cell_type": "code",
   "execution_count": null,
   "id": "4e8e4181",
   "metadata": {},
   "outputs": [],
   "source": []
  },
  {
   "cell_type": "code",
   "execution_count": null,
   "id": "266563f4",
   "metadata": {},
   "outputs": [],
   "source": []
  },
  {
   "cell_type": "code",
   "execution_count": null,
   "id": "de6db355",
   "metadata": {},
   "outputs": [],
   "source": []
  },
  {
   "cell_type": "code",
   "execution_count": null,
   "id": "f6e406f8",
   "metadata": {},
   "outputs": [],
   "source": []
  },
  {
   "cell_type": "code",
   "execution_count": null,
   "id": "56b9699a",
   "metadata": {},
   "outputs": [],
   "source": []
  },
  {
   "cell_type": "code",
   "execution_count": null,
   "id": "3a5a9f6c",
   "metadata": {},
   "outputs": [],
   "source": []
  },
  {
   "cell_type": "code",
   "execution_count": null,
   "id": "b0956011",
   "metadata": {},
   "outputs": [],
   "source": []
  },
  {
   "cell_type": "code",
   "execution_count": null,
   "id": "dbb158b6",
   "metadata": {},
   "outputs": [],
   "source": []
  },
  {
   "cell_type": "code",
   "execution_count": null,
   "id": "8c019b43",
   "metadata": {},
   "outputs": [],
   "source": []
  },
  {
   "cell_type": "code",
   "execution_count": null,
   "id": "58d08140",
   "metadata": {},
   "outputs": [],
   "source": []
  },
  {
   "cell_type": "code",
   "execution_count": null,
   "id": "e6f523e6",
   "metadata": {},
   "outputs": [],
   "source": []
  },
  {
   "cell_type": "code",
   "execution_count": null,
   "id": "7addf4b4",
   "metadata": {},
   "outputs": [],
   "source": []
  },
  {
   "cell_type": "code",
   "execution_count": null,
   "id": "e3989a43",
   "metadata": {},
   "outputs": [],
   "source": []
  },
  {
   "cell_type": "code",
   "execution_count": null,
   "id": "a759200a",
   "metadata": {},
   "outputs": [],
   "source": []
  },
  {
   "cell_type": "code",
   "execution_count": null,
   "id": "7611da7d",
   "metadata": {},
   "outputs": [],
   "source": []
  },
  {
   "cell_type": "code",
   "execution_count": null,
   "id": "0b091715",
   "metadata": {},
   "outputs": [],
   "source": []
  },
  {
   "cell_type": "code",
   "execution_count": null,
   "id": "b4e8360a",
   "metadata": {},
   "outputs": [],
   "source": []
  },
  {
   "cell_type": "code",
   "execution_count": null,
   "id": "8bf51737",
   "metadata": {},
   "outputs": [],
   "source": []
  },
  {
   "cell_type": "code",
   "execution_count": null,
   "id": "dc18dc00",
   "metadata": {},
   "outputs": [],
   "source": []
  },
  {
   "cell_type": "code",
   "execution_count": null,
   "id": "0ac26f78",
   "metadata": {},
   "outputs": [],
   "source": []
  }
 ],
 "metadata": {
  "kernelspec": {
   "display_name": "Python 3 (ipykernel)",
   "language": "python",
   "name": "python3"
  },
  "language_info": {
   "codemirror_mode": {
    "name": "ipython",
    "version": 3
   },
   "file_extension": ".py",
   "mimetype": "text/x-python",
   "name": "python",
   "nbconvert_exporter": "python",
   "pygments_lexer": "ipython3",
   "version": "3.9.7"
  },
  "varInspector": {
   "cols": {
    "lenName": 16,
    "lenType": 16,
    "lenVar": 40
   },
   "kernels_config": {
    "python": {
     "delete_cmd_postfix": "",
     "delete_cmd_prefix": "del ",
     "library": "var_list.py",
     "varRefreshCmd": "print(var_dic_list())"
    },
    "r": {
     "delete_cmd_postfix": ") ",
     "delete_cmd_prefix": "rm(",
     "library": "var_list.r",
     "varRefreshCmd": "cat(var_dic_list()) "
    }
   },
   "types_to_exclude": [
    "module",
    "function",
    "builtin_function_or_method",
    "instance",
    "_Feature"
   ],
   "window_display": false
  }
 },
 "nbformat": 4,
 "nbformat_minor": 5
}
